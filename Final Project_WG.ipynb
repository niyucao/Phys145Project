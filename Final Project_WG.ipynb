{
 "cells": [
  {
   "cell_type": "code",
   "execution_count": 69,
   "metadata": {},
   "outputs": [
    {
     "name": "stdout",
     "output_type": "stream",
     "text": [
      "Populating the interactive namespace from numpy and matplotlib\n"
     ]
    }
   ],
   "source": [
    "%pylab inline\n",
    "import uproot"
   ]
  },
  {
   "cell_type": "code",
   "execution_count": 461,
   "metadata": {},
   "outputs": [],
   "source": [
    "import random\n",
    "import awkward0 as ak"
   ]
  },
  {
   "cell_type": "markdown",
   "metadata": {},
   "source": [
    "## Load data files"
   ]
  },
  {
   "cell_type": "code",
   "execution_count": 2,
   "metadata": {},
   "outputs": [],
   "source": [
    "s500_dm1_file =  uproot.open(\"mc_392924.SlepSlep_direct_500p5_1p0_2L8.exactly2lep.root\")"
   ]
  },
  {
   "cell_type": "code",
   "execution_count": 3,
   "metadata": {},
   "outputs": [],
   "source": [
    "s100_dm50_file =  uproot.open(\"mc_392925.SlepSlep_direct_100p0_50p0_2L8.exactly2lep.root\")"
   ]
  },
  {
   "cell_type": "code",
   "execution_count": 4,
   "metadata": {},
   "outputs": [],
   "source": [
    "s200_dm100_file = uproot.open(\"mc_392936.SlepSlep_direct_200p0_100p0_2L8.exactly2lep.root\")"
   ]
  },
  {
   "cell_type": "code",
   "execution_count": 16,
   "metadata": {},
   "outputs": [],
   "source": [
    "data_file = uproot.open(\"data_A.exactly2lep.root\")"
   ]
  },
  {
   "cell_type": "code",
   "execution_count": 22,
   "metadata": {},
   "outputs": [],
   "source": [
    "b_ZZ_qqll = uproot.open(\"mc_363356.ZqqZll.exactly2lep.root\")"
   ]
  },
  {
   "cell_type": "code",
   "execution_count": 23,
   "metadata": {},
   "outputs": [],
   "source": [
    "b_WZ_qqll = uproot.open(\"mc_363358.WqqZll.exactly2lep.root\")"
   ]
  },
  {
   "cell_type": "code",
   "execution_count": 24,
   "metadata": {},
   "outputs": [],
   "source": [
    "b_dib_llvv = uproot.open(\"mc_363492.llvv.exactly2lep.root\")"
   ]
  },
  {
   "cell_type": "code",
   "execution_count": 46,
   "metadata": {},
   "outputs": [],
   "source": [
    "bg = [b_ZZ_qqll, b_WZ_qqll, b_dib_llvv]"
   ]
  },
  {
   "cell_type": "code",
   "execution_count": 86,
   "metadata": {},
   "outputs": [],
   "source": [
    "sets = [s500_dm1_file, s100_dm50_file, s200_dm100_file]"
   ]
  },
  {
   "cell_type": "code",
   "execution_count": 96,
   "metadata": {},
   "outputs": [],
   "source": [
    "#files_1 = [data_file, s500_dm1_file]\n",
    "#files_2 = [data_file, s100_dm50_file]\n",
    "#files_3 = [data_file, s200_dm100_file]"
   ]
  },
  {
   "cell_type": "code",
   "execution_count": 97,
   "metadata": {},
   "outputs": [],
   "source": [
    "#files_1.extend(bg)\n",
    "#files_2.extend(bg)\n",
    "#files_3.extend(bg)\n",
    "allfiles = [data_file]\n",
    "allfiles.extend(sets)\n",
    "allfiles.extend(bg)"
   ]
  },
  {
   "cell_type": "markdown",
   "metadata": {},
   "source": [
    "## Functions"
   ]
  },
  {
   "cell_type": "code",
   "execution_count": 90,
   "metadata": {},
   "outputs": [],
   "source": [
    "SMALL_SIZE = 14\n",
    "BIGGER_SIZE = 16\n",
    "\n",
    "plt.rc('font', size=SMALL_SIZE)          # controls default text sizes\n",
    "plt.rc('axes', titlesize=BIGGER_SIZE)     # fontsize of the axes title\n",
    "plt.rc('axes', labelsize=BIGGER_SIZE)    # fontsize of the x and y labels\n",
    "plt.rc('xtick', labelsize=SMALL_SIZE)    # fontsize of the tick labels\n",
    "plt.rc('ytick', labelsize=SMALL_SIZE)    # fontsize of the tick labels\n",
    "plt.rc('legend', fontsize=SMALL_SIZE)    # legend fontsize\n",
    "plt.rc('figure', titlesize=BIGGER_SIZE)  # fontsize of the figure title\n",
    "plt.rc('lines', linewidth = 3)\n",
    "plt.rc('figure', figsize= (7, 5))"
   ]
  },
  {
   "cell_type": "code",
   "execution_count": 91,
   "metadata": {},
   "outputs": [],
   "source": [
    "def make_fig(xTitle=\"xTitle\",yTitle=\"yTitle\"):\n",
    "    fig = plt.figure()\n",
    "\n",
    "    ax = plt.gca()\n",
    "    ax.set_prop_cycle(color=['#002BFF','#A15FFF','#FF0061','#FF8913'])\n",
    "    ax.set_xlabel(xTitle,labelpad=6)\n",
    "    ax.set_ylabel(yTitle)\n",
    "    ax.tick_params(direction='out', length=8, width=2)\n",
    "    ax.yaxis.offsetText.set_fontsize(10)\n",
    "    #ax.xaxis.labelpad = 15\n",
    "    #ax.yaxis.labelpad = 15\n",
    "    ax.tick_params(axis='both', which='major', labelsize=15)\n",
    "    \n",
    "    return fig, ax"
   ]
  },
  {
   "cell_type": "code",
   "execution_count": 465,
   "metadata": {},
   "outputs": [],
   "source": [
    "def mt2(file, mdm, indices = None):\n",
    "    mets = file[b'mini;1'].array(b'met_et')\n",
    "    mets_phi = file[b'mini;1'].array(b'met_phi')\n",
    "    lep_pt = file[b'mini;1'].array(b'lep_pt')\n",
    "    lep_eta = file[b'mini;1'].array(b'lep_eta')\n",
    "    lep_e = file[b'mini;1'].array(b'lep_E')\n",
    "    lep_phi = file[b'mini;1'].array(b'lep_phi')\n",
    "    if indices is not None:\n",
    "        mets = np.take(mets, indices)\n",
    "        mets = ak.fromiter(mets)\n",
    "        mets_phi = np.take(mets_phi, indices)\n",
    "        mets_phi = ak.fromiter(mets_phi)\n",
    "        lep_pt = np.take(lep_pt, indices)\n",
    "        lep_pt = ak.fromiter(lep_pt)\n",
    "        lep_eta = np.take(lep_eta, indices)\n",
    "        lep_eta = ak.fromiter(lep_eta)\n",
    "        lep_phi = np.take(lep_phi, indices)\n",
    "        lep_phi = ak.fromiter(lep_phi)\n",
    "        lep_e = np.take(lep_e, indices)\n",
    "        lep_e = ak.fromiter(lep_e)\n",
    "\n",
    "    lep_p = np.multiply(lep_pt, np.cosh(lep_eta))\n",
    "    mpts = np.sqrt(mets**2 - mdm**2)\n",
    "    lep_et = lep_e*(lep_pt/lep_p)\n",
    "    \n",
    "    splittings_mag = []\n",
    "    for mpt in mpts:\n",
    "        splittings_mag.append(np.linspace(0, mpt, 10))\n",
    "    s_phi = np.linspace(0, 2*pi, 10)\n",
    "    \n",
    "    mt2 = []\n",
    "    for i, qs in enumerate(splittings_mag):\n",
    "        #print(i)\n",
    "        max_mtq = []\n",
    "        for q in qs:\n",
    "            eq = np.sqrt(q**2 + mdm**2)\n",
    "            vec_mpt = np.array([[mpts[i]*np.cos(mets_phi[i]), mpts[i]*np.sin(mets_phi[i])]]*len(s_phi))\n",
    "            vec_q = np.column_stack([q*np.cos(s_phi), q*np.sin(s_phi)])\n",
    "            vec_minq = np.array(vec_mpt - vec_q)\n",
    "            vec_lep1 = np.array([[lep_pt[i][0]*np.cos(lep_phi[i][0]), lep_pt[i][0]*np.sin(lep_phi[i][0])]]*len(s_phi))\n",
    "            vec_lep2 = np.array([[lep_pt[i][1]*np.cos(lep_phi[i][1]), lep_pt[i][1]*np.sin(lep_phi[i][1])]]*len(s_phi))\n",
    "            eqmin = np.sqrt(np.array([sum(x) for x in np.multiply(vec_minq, vec_minq)]) + mdm**2)\n",
    "            \n",
    "            p1qt = np.array([sum(x) for x in np.multiply(vec_q, vec_lep1)])\n",
    "            p2mqt = np.array([sum(x) for x in np.multiply(vec_minq, vec_lep2)])\n",
    "            \n",
    "            mtalpha = np.sqrt(2*(lep_et[i][0]*eq - p1qt))\n",
    "            mtbeta =  np.sqrt(2*(lep_et[i][1]*eqmin - p2mqt))\n",
    "            #mtalpha = np.where(np.isnan(mtalpha), -1, mtalpha)\n",
    "            #mtbeta = np.where(np.isnan(mtbeta), -1, mtbeta)\n",
    "            \n",
    "            max_mtq.append(np.where(mtalpha >= mtbeta, mtalpha, mtbeta))\n",
    "        max_mtq = np.array(max_mtq)\n",
    "        mask = (np.isnan(max_mtq))\n",
    "        max_mtq[mask] = -1\n",
    "        max_mtq[mask] = np.max(max_mtq)+1\n",
    "        mt2.append(np.min(max_mtq))\n",
    "    return np.array(mt2)"
   ]
  },
  {
   "cell_type": "code",
   "execution_count": 329,
   "metadata": {},
   "outputs": [],
   "source": [
    "def filter_slep(file, mdm):\n",
    "    lep_type = file[b'mini;1'].array(b'lep_type')\n",
    "    lep_char = file[b'mini;1'].array(b'lep_charge')\n",
    "    mets = file[b'mini;1'].array(b'met_et')\n",
    "    jets = file[b'mini;1'].array(b'jet_n')\n",
    "    lep_ts = np.array([np.sum(lt) for lt in lep_type])\n",
    "    lep_cs = np.array([np.sum(ls) for ls in lep_char])\n",
    "    njets = np.array([np.sum(j) for j in jets])\n",
    "    \n",
    "    ind1 = np.where(mets >= mdm)[0]\n",
    "    ind2 = np.where(lep_ts != 24)[0]\n",
    "    ind3 = np.where(lep_cs == 0)[0]\n",
    "    ind4 = np.where(njets == 0)[0]\n",
    "    indices = np.intersect1d(np.intersect1d(ind3, ind2), ind1)\n",
    "    indices = np.intersect1d(ind4, indices)\n",
    "    return indices"
   ]
  },
  {
   "cell_type": "code",
   "execution_count": 281,
   "metadata": {},
   "outputs": [],
   "source": [
    "def get_N(file):\n",
    "    return 1000*file[b'mini;1'].array(b'XSection')/file[b'mini;1'].array(b'SumWeights')"
   ]
  },
  {
   "cell_type": "markdown",
   "metadata": {},
   "source": [
    "## Analysis of MC datasets"
   ]
  },
  {
   "cell_type": "markdown",
   "metadata": {},
   "source": [
    "Look at MET distribution of MC datasets."
   ]
  },
  {
   "cell_type": "code",
   "execution_count": 94,
   "metadata": {
    "scrolled": true
   },
   "outputs": [
    {
     "data": {
      "text/plain": [
       "<matplotlib.legend.Legend at 0x14e0148d470>"
      ]
     },
     "execution_count": 94,
     "metadata": {},
     "output_type": "execute_result"
    },
    {
     "data": {
      "image/png": "[encoded data removed]",
      "text/plain": [
       "<Figure size 504x360 with 1 Axes>"
      ]
     },
     "metadata": {
      "needs_background": "light"
     },
     "output_type": "display_data"
    }
   ],
   "source": [
    "make_fig(\"Met (GeV)\", \"Number of events\")\n",
    "title(\"Missing energy\")\n",
    "nbins   = 100 # number of bins in histogram\n",
    "xlow    = 0\n",
    "xhigh   = 1000\n",
    "bins    = np.linspace(xlow, xhigh, nbins)\n",
    "for i in range(len(sets)):\n",
    "    n, bins, patches = plt.hist(sets[i][b'mini;1'].array('met_et')/1e3, bins, alpha = 0.7)\n",
    "legend([\"Ml 500 Gev MDM 1 Gev\", \"Ml 100 Gev MDM 50 Gev\", \"Ml 200 Gev MDM 100 Gev\"])"
   ]
  },
  {
   "cell_type": "markdown",
   "metadata": {},
   "source": [
    "We build something called \"stransverse mass\". Recall regular transverse mass for a 1-> 2 decay:\n",
    "\\begin{align}\n",
    "m_T = \\sqrt{2 (E_{T1}E_{T2} - \\mathbf{p_{T1}\\cdot p_{T2}})}\n",
    "\\end{align}\n",
    "or \n",
    "\\begin{align}\n",
    "m_T = \\sqrt{2 (E_{T1}E_{T2} - |p_{T1}||p_{T2}|\\cos(\\Delta \\phi)}\n",
    "\\end{align}\n",
    "Where \n",
    "\\begin{align}\n",
    "E_T = E\\frac{|p_T|}{|p|}\n",
    "\\end{align}\n",
    "and\n",
    "\\begin{align}\n",
    "m_T \\leq m\n",
    "\\end{align}\n",
    "\n",
    "Here, we have two $\\tilde l-> l + DM$, where the $DM$ goes into $MET$. However, we don't know how the $MET$ is split up between the two unknown $DM$ particles, which means we have to split $\\mathbf{p_{T}}^{miss}$ into all possible combinations $\\mathbf{q_T}$ and $\\mathbf{p_{T}}^{miss} - \\mathbf{q_T}$. Then, we define the the $m_{T2}$ variable (\"stransverse mass\") as:\n",
    "\\begin{align}\n",
    "m_{T2} = \\text{min}_{\\mathbf{q_T}}\\bigg \\{\\text{max} \\big[m_T(\\mathbf{p_T^{\\alpha}}, \\mathbf{q_T}, MDM), m_T(\\mathbf{p_T^{\\beta}}, \\mathbf{p_{T}}^{miss} - \\mathbf{q_T}, MDM)]\\big]\\bigg\\}\n",
    "\\end{align}\n",
    "\n",
    "Where $\\alpha$ and $\\beta$ indicate the two respective $\\tilde{l} -> l + DM$ decays we are looking at.\n",
    "\n",
    "Note that we assume $|p_T| \\approx |p|$.\n",
    "\n",
    "$m_{T2}$ satisfies the inequality:\n",
    "\\begin{align}\n",
    "m_{T2}^2 \\leq m_{\\tilde l}^2 - MDM^2\n",
    "\\end{align}"
   ]
  },
  {
   "cell_type": "code",
   "execution_count": 322,
   "metadata": {},
   "outputs": [
    {
     "name": "stderr",
     "output_type": "stream",
     "text": [
      "C:\\Users\\Wenjie\\AppData\\Roaming\\Python\\Python37\\site-packages\\ipykernel_launcher.py:16: RuntimeWarning: invalid value encountered in sqrt\n",
      "  app.launch_new_instance()\n"
     ]
    }
   ],
   "source": [
    "mt2_sets = []\n",
    "mdms = [1e3, 50e3, 100e3]\n",
    "for i, s in enumerate(sets):\n",
    "    mt2_sets.append(mt2(s, mdms[i]))"
   ]
  },
  {
   "cell_type": "code",
   "execution_count": 429,
   "metadata": {},
   "outputs": [
    {
     "data": {
      "text/plain": [
       "<matplotlib.lines.Line2D at 0x14e99120908>"
      ]
     },
     "execution_count": 429,
     "metadata": {},
     "output_type": "execute_result"
    },
    {
     "data": {
      "image/png": "[encoded data removed]",
      "text/plain": [
       "<Figure size 504x360 with 1 Axes>"
      ]
     },
     "metadata": {
      "needs_background": "light"
     },
     "output_type": "display_data"
    }
   ],
   "source": [
    "make_fig(\"MT2 (GeV)\", \"Number of events\")\n",
    "title(\"MT2 for Ml 500 Gev MDM 1 GeV\")\n",
    "nbins   = 50 # number of bins in histogram\n",
    "xlow    = 1\n",
    "xhigh   = 700\n",
    "bins    = np.linspace(xlow, xhigh, nbins)\n",
    "n, bins, patches = plt.hist(np.take(np.array(mt2_sets[0])/1e3, cut_ind_sets[0]), bins, alpha = 0.7)\n",
    "axvline(np.sqrt(500**2-(mdms[0]/1e3)**2), linestyle = \"--\")"
   ]
  },
  {
   "cell_type": "code",
   "execution_count": 430,
   "metadata": {},
   "outputs": [
    {
     "data": {
      "text/plain": [
       "<matplotlib.lines.Line2D at 0x14e922dd8d0>"
      ]
     },
     "execution_count": 430,
     "metadata": {},
     "output_type": "execute_result"
    },
    {
     "data": {
      "image/png": "[encoded data removed]",
      "text/plain": [
       "<Figure size 504x360 with 1 Axes>"
      ]
     },
     "metadata": {
      "needs_background": "light"
     },
     "output_type": "display_data"
    }
   ],
   "source": [
    "make_fig(\"MT2 (GeV)\", \"Number of events\")\n",
    "title(\"MT2 for Ml 100 Gev MDm 50 GeV\")\n",
    "nbins   = 50 # number of bins in histogram\n",
    "xlow    = 1\n",
    "xhigh   = 200\n",
    "bins    = np.linspace(xlow, xhigh, nbins)\n",
    "n, bins, patches = plt.hist(np.take(np.array(mt2_sets[1])/1e3, cut_ind_sets[1]), bins, alpha = 0.7)\n",
    "axvline(np.sqrt(100**2-(mdms[1]/1e3)**2), linestyle = \"--\")"
   ]
  },
  {
   "cell_type": "code",
   "execution_count": 432,
   "metadata": {},
   "outputs": [
    {
     "data": {
      "text/plain": [
       "<matplotlib.lines.Line2D at 0x14e9943c668>"
      ]
     },
     "execution_count": 432,
     "metadata": {},
     "output_type": "execute_result"
    },
    {
     "data": {
      "image/png": "[encoded data removed]",
      "text/plain": [
       "<Figure size 504x360 with 1 Axes>"
      ]
     },
     "metadata": {
      "needs_background": "light"
     },
     "output_type": "display_data"
    }
   ],
   "source": [
    "make_fig(\"MT2 (GeV)\", \"Number of events\")\n",
    "title(\"MT2 for Ml 200 Gev MDM 100 GeV\")\n",
    "nbins   = 50 # number of bins in histogram\n",
    "xlow    = 1\n",
    "xhigh   = 250\n",
    "bins    = np.linspace(xlow, xhigh, nbins)\n",
    "n, bins, patches = plt.hist(np.take(np.array(mt2_sets[2])/1e3, cut_ind_sets[2]), bins, alpha = 0.7)\n",
    "axvline(np.sqrt(200**2-(mdms[2]/1e3)**2), linestyle = \"--\")"
   ]
  },
  {
   "cell_type": "markdown",
   "metadata": {},
   "source": [
    "For all data sets, I will make the cuts that the lepton type should be either two muons or two electrons and the sum of the lepton charge should be -1."
   ]
  },
  {
   "cell_type": "code",
   "execution_count": 286,
   "metadata": {},
   "outputs": [],
   "source": [
    "weights = [\"scaleFactor_MUON\", \"scaleFactor_ELE\", \"scaleFactor_PILEUP\", \"scaleFactor_LepTRIGGER\", \"mcWeight\"]"
   ]
  },
  {
   "cell_type": "markdown",
   "metadata": {},
   "source": [
    "## Random sampling of data"
   ]
  },
  {
   "cell_type": "code",
   "execution_count": 352,
   "metadata": {},
   "outputs": [],
   "source": [
    "cut_ind_databg = []\n",
    "for mdm in mdms:\n",
    "    for file in [data_file] + bg:\n",
    "        cut_ind_databg.append(filter_slep(file, mdm))"
   ]
  },
  {
   "cell_type": "code",
   "execution_count": 351,
   "metadata": {},
   "outputs": [],
   "source": [
    "cut_ind_sets = []\n",
    "for i, file in enumerate(sets):\n",
    "    cut_ind_sets.append(filter_slep(file, mdms[i]))"
   ]
  },
  {
   "cell_type": "code",
   "execution_count": 356,
   "metadata": {},
   "outputs": [],
   "source": [
    "sizes_databg = []\n",
    "for file in [data_file] + bg:\n",
    "    met = file[b'mini;1'].array(b'met_et')\n",
    "    sizes_databg.append(len(met))"
   ]
  },
  {
   "cell_type": "code",
   "execution_count": 397,
   "metadata": {},
   "outputs": [],
   "source": [
    "rand_samp_databg = []\n",
    "for j, mdm in enumerate(mdms):\n",
    "    mdm_samp = []\n",
    "    for i, file in enumerate([data_file] + bg):\n",
    "        if j <=1:\n",
    "            mdm_samp.append(random.sample(range(0, sizes_databg[i]), 10000*(j+1)))\n",
    "        else:\n",
    "            mdm_samp.append(random.sample(range(0, sizes_databg[i]), 100000))\n",
    "    rand_samp_databg.append(mdm_samp)"
   ]
  },
  {
   "cell_type": "code",
   "execution_count": 361,
   "metadata": {},
   "outputs": [],
   "source": [
    "cut_ind_dbg = []\n",
    "cut_ind_dbg.append(cut_ind_databg[0:4])\n",
    "cut_ind_dbg.append(cut_ind_databg[4:8])\n",
    "cut_ind_dbg.append(cut_ind_databg[8:12])"
   ]
  },
  {
   "cell_type": "code",
   "execution_count": 398,
   "metadata": {},
   "outputs": [
    {
     "name": "stderr",
     "output_type": "stream",
     "text": [
      "C:\\Users\\Wenjie\\AppData\\Roaming\\Python\\Python37\\site-packages\\ipykernel_launcher.py:3: VisibleDeprecationWarning: Creating an ndarray from ragged nested sequences (which is a list-or-tuple of lists-or-tuples-or ndarrays with different lengths or shapes) is deprecated. If you meant to do this, you must specify 'dtype=object' when creating the ndarray\n",
      "  This is separate from the ipykernel package so we can avoid doing imports until\n"
     ]
    }
   ],
   "source": [
    "cut_ind_dbg = np.array(cut_ind_dbg)\n",
    "cut_ind_sets = np.array(cut_ind_sets)\n",
    "rand_samp_databg = np.array(rand_samp_databg)"
   ]
  },
  {
   "cell_type": "code",
   "execution_count": 399,
   "metadata": {},
   "outputs": [],
   "source": [
    "fin_ind_dbg = []\n",
    "for i in range(len(cut_ind_dbg)):\n",
    "    mdm_ind = []\n",
    "    for j in range(len(cut_ind_dbg[0])):\n",
    "        mdm_ind.append(np.intersect1d(cut_ind_dbg[i][j], rand_samp_databg[i][j]))\n",
    "    fin_ind_dbg.append(mdm_ind)"
   ]
  },
  {
   "cell_type": "code",
   "execution_count": 408,
   "metadata": {},
   "outputs": [
    {
     "name": "stderr",
     "output_type": "stream",
     "text": [
      "C:\\Users\\Wenjie\\AppData\\Roaming\\Python\\Python37\\site-packages\\ipykernel_launcher.py:1: VisibleDeprecationWarning: Creating an ndarray from ragged nested sequences (which is a list-or-tuple of lists-or-tuples-or ndarrays with different lengths or shapes) is deprecated. If you meant to do this, you must specify 'dtype=object' when creating the ndarray\n",
      "  \"\"\"Entry point for launching an IPython kernel.\n"
     ]
    }
   ],
   "source": [
    "fin_ind_dbg = np.array(fin_ind_dbg)"
   ]
  },
  {
   "cell_type": "code",
   "execution_count": 412,
   "metadata": {
    "scrolled": true
   },
   "outputs": [],
   "source": [
    "for i, fin_ind in enumerate(fin_ind_dbg):\n",
    "    np.save(f\"mdm{i}fin_ind_dbg.txt\", fin_ind)"
   ]
  },
  {
   "cell_type": "code",
   "execution_count": 413,
   "metadata": {},
   "outputs": [],
   "source": [
    "np.save(\"fin_ind_dbg_whole\", fin_ind_dbg)"
   ]
  },
  {
   "cell_type": "code",
   "execution_count": 466,
   "metadata": {},
   "outputs": [
    {
     "name": "stdout",
     "output_type": "stream",
     "text": [
      "00\n",
      "01\n",
      "02\n",
      "03\n",
      "10\n",
      "11\n",
      "12\n",
      "13\n",
      "20\n",
      "21\n",
      "22\n",
      "23\n"
     ]
    }
   ],
   "source": [
    "mt2_dbg = []\n",
    "for i in range(len(fin_ind_dbg)):\n",
    "    mt2_mdm = []\n",
    "    for j, file in enumerate([data_file] + bg):\n",
    "        print(f'{i}{j}')\n",
    "        mt2_mdm.append(mt2(file, mdms[i], fin_ind_dbg[i][j]))\n",
    "    mt2_dbg.append(mt2_mdm)"
   ]
  },
  {
   "cell_type": "code",
   "execution_count": 468,
   "metadata": {},
   "outputs": [
    {
     "name": "stderr",
     "output_type": "stream",
     "text": [
      "C:\\Users\\Wenjie\\Anaconda3\\lib\\site-packages\\numpy\\core\\_asarray.py:136: VisibleDeprecationWarning: Creating an ndarray from ragged nested sequences (which is a list-or-tuple of lists-or-tuples-or ndarrays with different lengths or shapes) is deprecated. If you meant to do this, you must specify 'dtype=object' when creating the ndarray\n",
      "  return array(a, dtype, copy=False, order=order, subok=True)\n"
     ]
    }
   ],
   "source": [
    "np.save(\"mt2_dbg\", mt2_dbg)"
   ]
  },
  {
   "cell_type": "markdown",
   "metadata": {},
   "source": [
    "We want to rescale MC by $\\frac{\\text{sample data size}}{\\text{data size}}\\frac{\\text{mc size}}{\\text{sample mc size}}$. Here, the sample data and sample mc are the same size, so we rescale by mc size/data size."
   ]
  },
  {
   "cell_type": "code",
   "execution_count": 516,
   "metadata": {},
   "outputs": [],
   "source": [
    "sets_bg_weights = []\n",
    "for i, file in enumerate(sets + bg):\n",
    "    e_weight = 1\n",
    "    N = get_N(file)\n",
    "    for weight in weights:\n",
    "        e_weight = e_weight*file[b'mini;1'].array(weight)\n",
    "    sets_bg_weights.append(e_weight)\n",
    "    '''\n",
    "    if i <= 2:\n",
    "        sets_bg_weights.append(multiply(e_weight, N))\n",
    "    else:\n",
    "        sets_bg_weights.append((sizes_databg[i-2]/sizes_databg[0])*multiply(e_weight, N))\n",
    "    '''"
   ]
  },
  {
   "cell_type": "markdown",
   "metadata": {},
   "source": [
    "## ML 500 GeV, MDM 1 GeV"
   ]
  },
  {
   "cell_type": "code",
   "execution_count": 474,
   "metadata": {},
   "outputs": [],
   "source": [
    "mt2_sets_ind = []\n",
    "for i, mt2 in enumerate(mt2_sets):\n",
    "    mt2_sets_ind.append(np.take(mt2, cut_ind_sets[i]))"
   ]
  },
  {
   "cell_type": "code",
   "execution_count": 517,
   "metadata": {},
   "outputs": [],
   "source": [
    "sets_weights_ind = []\n",
    "for i in range(len(sets)):\n",
    "    sets_weights_ind.append(np.take(sets_bg_weights[i], cut_ind_sets[i]))"
   ]
  },
  {
   "cell_type": "code",
   "execution_count": 518,
   "metadata": {},
   "outputs": [],
   "source": [
    "bg_weights_ind = []\n",
    "for i in range(len(mdms)):\n",
    "    mdm_bg_weight = []\n",
    "    for j in range(len(bg)):\n",
    "        mdm_bg_weight.append(np.take(sets_bg_weights[j+3], fin_ind_dbg[i][j+1]))\n",
    "    bg_weights_ind.append(mdm_bg_weight)"
   ]
  },
  {
   "cell_type": "code",
   "execution_count": 537,
   "metadata": {},
   "outputs": [],
   "source": [
    "nbins   = 50 # number of bins in histogram\n",
    "xlow    = 0\n",
    "xhigh   = 600e3\n",
    "bins    = np.linspace(xlow, xhigh, nbins)\n",
    "\n",
    "counts, bin_edges = np.histogram(mt2_dbg[0][0], bins)\n",
    "bin_centers = (bin_edges[:-1] + bin_edges[1:])/2.\n",
    "err = np.sqrt(counts)/10\n",
    "counts = counts/10"
   ]
  },
  {
   "cell_type": "code",
   "execution_count": 538,
   "metadata": {},
   "outputs": [
    {
     "data": {
      "text/plain": [
       "<matplotlib.legend.Legend at 0x14e75fe8048>"
      ]
     },
     "execution_count": 538,
     "metadata": {},
     "output_type": "execute_result"
    },
    {
     "data": {
      "image/png": "[encoded data removed]",
      "text/plain": [
       "<Figure size 504x360 with 1 Axes>"
      ]
     },
     "metadata": {
      "needs_background": "light"
     },
     "output_type": "display_data"
    }
   ],
   "source": [
    "make_fig(\"MT2 (MeV)\", \"Number of Events\")\n",
    "title(\"(500 GeV, 1 GeV)\")\n",
    "n, bins, patches = plt.hist(mt2_dbg[0][1:] + [mt2_sets_ind[0]], bins, stacked = True, weights = bg_weights_ind[0] + [sets_weights_ind[0]])\n",
    "errorbar(bin_centers, counts, yerr = err, fmt = 'o')\n",
    "legend([\"ZZ\", \"WZ\", \"diboson\", \"MC data\"])"
   ]
  },
  {
   "cell_type": "code",
   "execution_count": 488,
   "metadata": {},
   "outputs": [
    {
     "data": {
      "text/plain": [
       "4"
      ]
     },
     "execution_count": 488,
     "metadata": {},
     "output_type": "execute_result"
    }
   ],
   "source": [
    "len(mt2_dbg[0][1:] + [mt2_sets_ind[0]])"
   ]
  },
  {
   "cell_type": "code",
   "execution_count": 497,
   "metadata": {},
   "outputs": [
    {
     "data": {
      "text/plain": [
       "array([6.1082908e-05, 7.3752759e-05, 8.9901063e-05, ..., 1.5948247e-04,\n",
       "       1.0141985e-04, 1.5745078e-04], dtype=float32)"
      ]
     },
     "execution_count": 497,
     "metadata": {},
     "output_type": "execute_result"
    }
   ],
   "source": [
    "sets_weights_ind[0]"
   ]
  },
  {
   "cell_type": "code",
   "execution_count": 526,
   "metadata": {},
   "outputs": [
    {
     "data": {
      "text/plain": [
       "array([1.00000000e+00, 2.50009583e+04, 5.00009167e+04, 7.50008750e+04,\n",
       "       1.00000833e+05, 1.25000792e+05, 1.50000750e+05, 1.75000708e+05,\n",
       "       2.00000667e+05, 2.25000625e+05, 2.50000583e+05, 2.75000542e+05,\n",
       "       3.00000500e+05, 3.25000458e+05, 3.50000417e+05, 3.75000375e+05,\n",
       "       4.00000333e+05, 4.25000292e+05, 4.50000250e+05, 4.75000208e+05,\n",
       "       5.00000167e+05, 5.25000125e+05, 5.50000083e+05, 5.75000042e+05,\n",
       "       6.00000000e+05])"
      ]
     },
     "execution_count": 526,
     "metadata": {},
     "output_type": "execute_result"
    }
   ],
   "source": []
  },
  {
   "cell_type": "code",
   "execution_count": null,
   "metadata": {},
   "outputs": [],
   "source": []
  }
 ],
 "metadata": {
  "kernelspec": {
   "display_name": "Python 3",
   "language": "python",
   "name": "python3"
  },
  "language_info": {
   "codemirror_mode": {
    "name": "ipython",
    "version": 3
   },
   "file_extension": ".py",
   "mimetype": "text/x-python",
   "name": "python",
   "nbconvert_exporter": "python",
   "pygments_lexer": "ipython3",
   "version": "3.7.1"
  }
 },
 "nbformat": 4,
 "nbformat_minor": 2
}
