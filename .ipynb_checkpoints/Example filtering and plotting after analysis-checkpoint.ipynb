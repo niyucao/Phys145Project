{
 "cells": [
  {
   "cell_type": "markdown",
   "metadata": {},
   "source": [
    "# Plot Data vs. Background Given Our Cuts!"
   ]
  },
  {
   "cell_type": "code",
   "execution_count": 1,
   "metadata": {},
   "outputs": [],
   "source": [
    "import uproot\n",
    "import numpy as np\n",
    "from numpy import ndarray\n",
    "import matplotlib.pyplot as plt\n",
    "import pandas as pd\n",
    "import textwrap\n",
    "import awkward as ak"
   ]
  },
  {
   "cell_type": "code",
   "execution_count": 2,
   "metadata": {},
   "outputs": [],
   "source": [
    "#open relevant files\n",
    "Real_Data = \"data.4lep.root\"\n",
    "real_data = uproot.open(Real_Data)\n",
    "\n",
    "Graviton = \"mc.graviton.4lep.root\"\n",
    "graviton = uproot.open(Graviton)\n",
    "\n",
    "Higgs = \"mc_345060.ggH125_ZZ4lep.4lep.root\"\n",
    "higgs = uproot.open(Higgs)"
   ]
  },
  {
   "cell_type": "code",
   "execution_count": 3,
   "metadata": {},
   "outputs": [],
   "source": [
    "def make_fig(xTitle=\"xTitle\",yTitle=\"yTitle\"):\n",
    "    fig = plt.figure(figsize=(10,5))\n",
    "\n",
    "    ax = plt.gca()\n",
    "    ax.set_prop_cycle(color=['#002BFF','#A15FFF','#FF0061','#FF8913'])\n",
    "    ax.set_xlabel(xTitle,fontsize=18,labelpad=6)\n",
    "    ax.set_ylabel(yTitle,fontsize=18)\n",
    "    ax.tick_params(labelsize=10, direction='out', length=8, width=2)\n",
    "    ax.yaxis.offsetText.set_fontsize(10)\n",
    "    ax.xaxis.labelpad = 15\n",
    "    ax.yaxis.labelpad = 15\n",
    "    ax.tick_params(axis='both', which='major', labelsize=15)\n",
    "    \n",
    "    return fig, ax"
   ]
  },
  {
   "cell_type": "code",
   "execution_count": 4,
   "metadata": {},
   "outputs": [],
   "source": [
    "titles = ['Complete Histogram']\n",
    "ytitle = \"Number of Leptons\""
   ]
  },
  {
   "cell_type": "markdown",
   "metadata": {},
   "source": [
    "# Make Filters and Filtered Datasets"
   ]
  },
  {
   "cell_type": "code",
   "execution_count": 5,
   "metadata": {},
   "outputs": [
    {
     "name": "stdout",
     "output_type": "stream",
     "text": [
      "832\n"
     ]
    }
   ],
   "source": [
    "#Make the Big Filter for the real_data\n",
    "tree    = b'mini;1'\n",
    "\n",
    "#pT filter\n",
    "#these are upper and lower filters on individual leptons\n",
    "lep_pt = ak.fromiter(real_data[tree].array(b'lep_pt')*1e-3)\n",
    "lep1_filterPT1 = lep_pt[:,0]<=1000\n",
    "lep1_filterPT2 = lep_pt[:,0]>=39\n",
    "lep2_filterPT1 = lep_pt[:,1]<=400\n",
    "lep2_filterPT2 = lep_pt[:,1]>=18\n",
    "lep3_filterPT = lep_pt[:,2]<=250\n",
    "lep4_filterPT = lep_pt[:,3]<=150\n",
    "#join individual lepton filters\n",
    "filterPT = (lep1_filterPT1+lep1_filterPT2+lep2_filterPT1\n",
    "            +lep2_filterPT2+lep3_filterPT+lep4_filterPT)\n",
    "\n",
    "#pL filter\n",
    "sinh_lep_eta = ak.fromiter(np.sinh(real_data[tree].array(b'lep_eta')))\n",
    "pl =  lep_pt*sinh_lep_eta\n",
    "lep1_filterPL1 = pl[:,0]<=1000\n",
    "lep2_filterPL1 = pl[:,1]<=1000\n",
    "lep3_filterPL1 = pl[:,2]<=750\n",
    "lep4_filterPL1 = pl[:,3]<=500\n",
    "lep1_filterPL2 = pl[:,0]>=-1000\n",
    "lep2_filterPL2 = pl[:,1]>=-1000\n",
    "lep3_filterPL2 = pl[:,2]>=-750\n",
    "lep4_filterPL2 = pl[:,3]>=-500\n",
    "#join individual lepton filters\n",
    "filterPL = (lep1_filterPL1+lep2_filterPL1+lep3_filterPL1+lep4_filterPL1\n",
    "            +lep1_filterPL2+lep2_filterPL2+lep3_filterPL2+lep4_filterPL2)\n",
    "\n",
    "#filters the real dataset to satisfy ALL conditions\n",
    "The_Big_Filter = filterPT+filterPL\n",
    "print(len(The_Big_Filter))"
   ]
  },
  {
   "cell_type": "code",
   "execution_count": 6,
   "metadata": {},
   "outputs": [
    {
     "name": "stdout",
     "output_type": "stream",
     "text": [
      "832\n",
      "696\n",
      "610\n"
     ]
    }
   ],
   "source": [
    "#DataFrame creation for REAL DATA\n",
    "tree    = b'mini;1' \n",
    "\n",
    "lep_charge = ak.fromiter(real_data[tree].array(b'lep_charge'))\n",
    "lep_charge = lep_charge[The_Big_Filter]\n",
    "lep_charge_sum = lep_charge.sum()\n",
    "\n",
    "#Z_E=sum(lep_E)\n",
    "Ebit = ak.fromiter(real_data[tree].array(b'lep_E')*1e-3)\n",
    "Ebit = Ebit[The_Big_Filter]\n",
    "E = Ebit.sum()\n",
    "\n",
    "#Z_pl=sum(lep_pt*sinh(lep_eta))\n",
    "lep_pt = ak.fromiter(real_data[tree].array(b'lep_pt')*1e-3)\n",
    "lep_pt = lep_pt[The_Big_Filter]\n",
    "sinh_lep_eta = ak.fromiter(np.sinh(real_data[tree].array(b'lep_eta')))\n",
    "sinh_lep_eta = sinh_lep_eta[The_Big_Filter]\n",
    "prod =  lep_pt*sinh_lep_eta\n",
    "pl = prod.sum()\n",
    "\n",
    "#Sum lep types\n",
    "lep_type = ak.fromiter(real_data[tree].array(b'lep_type'))\n",
    "lep_type = lep_type[The_Big_Filter]\n",
    "leptons = lep_type.sum() \n",
    "\n",
    "#Z_pt=sqrt((sum(lep_pt*cos(lep_phi)))^2+(sum(lep_pt*sin(lep_phi)))^2)\n",
    "cos_lep_phi = ak.fromiter(np.cos(real_data[tree].array(b'lep_phi')))\n",
    "cos_lep_phi = cos_lep_phi[The_Big_Filter]\n",
    "sin_lep_phi = ak.fromiter(np.sin(real_data[tree].array(b'lep_phi')))\n",
    "sin_lep_phi = sin_lep_phi[The_Big_Filter]\n",
    "prod1 = lep_pt * cos_lep_phi\n",
    "prod2 = lep_pt * sin_lep_phi\n",
    "pt = np.sqrt((prod1.sum())**2+(prod2.sum())**2)\n",
    "\n",
    "#Missing transverse energy\n",
    "met_et = real_data[tree].array(b'met_et')*1e-3\n",
    "met_et = met_et[The_Big_Filter]\n",
    "\n",
    "#Store isTight values to filter later leptons \n",
    "#that don't pass the strictest requirements\n",
    "lep_tight = ak.fromiter(real_data[tree].array(b'lep_isTightID'))\n",
    "lep_tight = lep_tight[The_Big_Filter]\n",
    "lep_tight = lep_tight.sum()\n",
    "\n",
    "#Invariant mass of the four leptons\n",
    "#adds momentum component by component\n",
    "InvMass = np.sqrt(E**2-pt**2-pl**2)\n",
    "\n",
    "data = {'pl':pl,'pt':pt,'E':E,'InvMass':InvMass,'lep_type':leptons, \n",
    "        'MET':met_et, 'lep_tight':lep_tight, 'lep_charge':lep_charge_sum}\n",
    "df_real_data = pd.DataFrame(data)\n",
    "print(len(df_real_data['pl']))\n",
    "\n",
    "#filter lep_types\n",
    "df_real_data = df_real_data[df_real_data['lep_type']!=46]\n",
    "print(len(df_real_data['pl']))\n",
    "df_real_data = df_real_data[df_real_data['lep_type']!=50]\n",
    "print(len(df_real_data['pl']))"
   ]
  },
  {
   "cell_type": "code",
   "execution_count": 7,
   "metadata": {},
   "outputs": [
    {
     "name": "stdout",
     "output_type": "stream",
     "text": [
      "6496\n"
     ]
    }
   ],
   "source": [
    "#Make the Big Filter for the graviton\n",
    "tree    = b'mini;1'\n",
    "\n",
    "#pT filter\n",
    "lep_pt = ak.fromiter(graviton[tree].array(b'lep_pt')*1e-3)\n",
    "lep1_filterPT1 = lep_pt[:,0]<=1000\n",
    "lep1_filterPT2 = lep_pt[:,0]>=39\n",
    "lep2_filterPT1 = lep_pt[:,1]<=400\n",
    "lep2_filterPT2 = lep_pt[:,1]>=18\n",
    "lep3_filterPT = lep_pt[:,2]<=250\n",
    "lep4_filterPT = lep_pt[:,3]<=150\n",
    "#join individual lepton filters\n",
    "filterPT = (lep1_filterPT1+lep1_filterPT2+lep2_filterPT1\n",
    "            +lep2_filterPT2+lep3_filterPT+lep4_filterPT)\n",
    "\n",
    "#pL filter\n",
    "sinh_lep_eta = ak.fromiter(np.sinh(graviton[tree].array(b'lep_eta')))\n",
    "pl =  lep_pt*sinh_lep_eta\n",
    "lep1_filterPL1 = pl[:,0]<=1000\n",
    "lep2_filterPL1 = pl[:,1]<=1000\n",
    "lep3_filterPL1 = pl[:,2]<=750\n",
    "lep4_filterPL1 = pl[:,3]<=500\n",
    "lep1_filterPL2 = pl[:,0]>=-1000\n",
    "lep2_filterPL2 = pl[:,1]>=-1000\n",
    "lep3_filterPL2 = pl[:,2]>=-750\n",
    "lep4_filterPL2 = pl[:,3]>=-500\n",
    "#join individual lepton filters\n",
    "filterPL = (lep1_filterPL1+lep2_filterPL1+lep3_filterPL1+lep4_filterPL1\n",
    "            +lep1_filterPL2+lep2_filterPL2+lep3_filterPL2+lep4_filterPL2)\n",
    "\n",
    "#filters the graviton dataset to satisfy ALL conditions\n",
    "The_Big_Filter = filterPT+filterPL\n",
    "print(len(The_Big_Filter))"
   ]
  },
  {
   "cell_type": "code",
   "execution_count": 8,
   "metadata": {},
   "outputs": [
    {
     "name": "stdout",
     "output_type": "stream",
     "text": [
      "6496\n",
      "6302\n",
      "6159\n"
     ]
    }
   ],
   "source": [
    "#DataFrame creation for GRAVITON\n",
    "tree    = b'mini;1' \n",
    "\n",
    "lep_charge = ak.fromiter(graviton[tree].array(b'lep_charge'))\n",
    "lep_charge = lep_charge[The_Big_Filter]\n",
    "lep_charge_sum = lep_charge.sum()\n",
    "\n",
    "#Z_E=sum(lep_E)\n",
    "Ebit = ak.fromiter(graviton[tree].array(b'lep_E')*1e-3)\n",
    "Ebit = Ebit[The_Big_Filter]\n",
    "E = Ebit.sum()\n",
    "\n",
    "#Z_pl=sum(lep_pt*sinh(lep_eta))\n",
    "lep_pt = ak.fromiter(graviton[tree].array(b'lep_pt')*1e-3)\n",
    "lep_pt = lep_pt[The_Big_Filter]\n",
    "sinh_lep_eta = ak.fromiter(np.sinh(graviton[tree].array(b'lep_eta')))\n",
    "sinh_lep_eta = sinh_lep_eta[The_Big_Filter]\n",
    "prod =  lep_pt*sinh_lep_eta\n",
    "pl = prod.sum()\n",
    "\n",
    "#Sum lep types\n",
    "lep_type = ak.fromiter(graviton[tree].array(b'lep_type'))\n",
    "lep_type = lep_type[The_Big_Filter]\n",
    "leptons = lep_type.sum() \n",
    "\n",
    "#Z_pt=sqrt((sum(lep_pt*cos(lep_phi)))^2+(sum(lep_pt*sin(lep_phi)))^2)\n",
    "cos_lep_phi = ak.fromiter(np.cos(graviton[tree].array(b'lep_phi')))\n",
    "cos_lep_phi = cos_lep_phi[The_Big_Filter]\n",
    "sin_lep_phi = ak.fromiter(np.sin(graviton[tree].array(b'lep_phi')))\n",
    "sin_lep_phi = sin_lep_phi[The_Big_Filter]\n",
    "prod1 = lep_pt * cos_lep_phi\n",
    "prod2 = lep_pt * sin_lep_phi\n",
    "pt = np.sqrt((prod1.sum())**2+(prod2.sum())**2)\n",
    "\n",
    "#Missing transverse energy\n",
    "met_et = graviton[tree].array(b'met_et')*1e-3\n",
    "met_et = met_et[The_Big_Filter]\n",
    "\n",
    "#Store isTight values to filter later leptons \n",
    "#that don't pass the strictest requirements\n",
    "lep_tight = ak.fromiter(graviton[tree].array(b'lep_isTightID'))\n",
    "lep_tight = lep_tight[The_Big_Filter]\n",
    "lep_tight = lep_tight.sum()\n",
    "\n",
    "#Invariant mass of the four leptons\n",
    "#adds momentum component by component\n",
    "InvMass = np.sqrt(E**2-pt**2-pl**2)\n",
    "\n",
    "#here we calculated, with filtered arrays\n",
    "#all of the variables needed to determined the MC\n",
    "#weight of this dataset\n",
    "SF_u = ak.fromiter(graviton[tree].array(b'scaleFactor_MUON'))\n",
    "SF_u = SF_u[The_Big_Filter]\n",
    "\n",
    "SF_e = ak.fromiter(graviton[tree].array(b'scaleFactor_ELE'))\n",
    "SF_e = SF_e[The_Big_Filter]\n",
    "\n",
    "N = 0.0088\n",
    "SF_p = ak.fromiter(graviton[tree].array(b'scaleFactor_PILEUP'))\n",
    "SF_p = SF_p[The_Big_Filter]\n",
    "\n",
    "SF_l = ak.fromiter(graviton[tree].array(b'scaleFactor_LepTRIGGER'))\n",
    "SF_l = SF_l[The_Big_Filter]\n",
    "\n",
    "mcW = ak.fromiter(graviton[tree].array(b'mcWeight'))\n",
    "mcW = mcW[The_Big_Filter]\n",
    "\n",
    "#graviton weight calculated here\n",
    "graviton_weight = N * SF_u * SF_e * SF_p * SF_l * mcW\n",
    "\n",
    "data = {'pl':pl,'pt':pt,'E':E,'InvMass':InvMass,'lep_type':leptons, \n",
    "        'MET':met_et, 'lep_tight':lep_tight, 'graviton_weight':graviton_weight}\n",
    "df_graviton = pd.DataFrame(data)\n",
    "print(len(df_graviton['pl']))\n",
    "\n",
    "#filter the dataframes by lep_type\n",
    "df_graviton = df_graviton[df_graviton['lep_type']!=46]\n",
    "print(len(df_graviton['pl']))\n",
    "df_graviton = df_graviton[df_graviton['lep_type']!=50]\n",
    "print(len(df_graviton['pl']))"
   ]
  },
  {
   "cell_type": "code",
   "execution_count": 9,
   "metadata": {},
   "outputs": [
    {
     "name": "stdout",
     "output_type": "stream",
     "text": [
      "164716\n"
     ]
    }
   ],
   "source": [
    "#Make the Big Filter for the higgs\n",
    "tree    = b'mini;1'\n",
    "\n",
    "#pT filter\n",
    "lep_pt = ak.fromiter(higgs[tree].array(b'lep_pt')*1e-3)\n",
    "lep1_filterPT1 = lep_pt[:,0]<=1000\n",
    "lep1_filterPT2 = lep_pt[:,0]>=39\n",
    "lep2_filterPT1 = lep_pt[:,1]<=400\n",
    "lep2_filterPT2 = lep_pt[:,1]>=18\n",
    "lep3_filterPT = lep_pt[:,2]<=250\n",
    "lep4_filterPT = lep_pt[:,3]<=150\n",
    "#join individual lepton filters\n",
    "filterPT = (lep1_filterPT1+lep1_filterPT2+lep2_filterPT1\n",
    "            +lep2_filterPT2+lep3_filterPT+lep4_filterPT)\n",
    "\n",
    "#pL filter\n",
    "sinh_lep_eta = ak.fromiter(np.sinh(higgs[tree].array(b'lep_eta')))\n",
    "pl =  lep_pt*sinh_lep_eta\n",
    "lep1_filterPL1 = pl[:,0]<=1000\n",
    "lep2_filterPL1 = pl[:,1]<=1000\n",
    "lep3_filterPL1 = pl[:,2]<=750\n",
    "lep4_filterPL1 = pl[:,3]<=500\n",
    "lep1_filterPL2 = pl[:,0]>=-1000\n",
    "lep2_filterPL2 = pl[:,1]>=-1000\n",
    "lep3_filterPL2 = pl[:,2]>=-750\n",
    "lep4_filterPL2 = pl[:,3]>=-500\n",
    "#join individual lepton filters\n",
    "filterPL = (lep1_filterPL1+lep2_filterPL1+lep3_filterPL1+lep4_filterPL1\n",
    "            +lep1_filterPL2+lep2_filterPL2+lep3_filterPL2+lep4_filterPL2)\n",
    "\n",
    "#filters the higgs dataset to satisfy ALL conditions\n",
    "The_Big_Filter = filterPT+filterPL\n",
    "print(len(The_Big_Filter))"
   ]
  },
  {
   "cell_type": "code",
   "execution_count": 10,
   "metadata": {},
   "outputs": [
    {
     "name": "stdout",
     "output_type": "stream",
     "text": [
      "164716\n",
      "164283\n",
      "163952\n"
     ]
    }
   ],
   "source": [
    "#DataFrame creation for higgs\n",
    "tree    = b'mini;1' \n",
    "\n",
    "lep_charge = ak.fromiter(higgs[tree].array(b'lep_charge'))\n",
    "lep_charge = lep_charge[The_Big_Filter]\n",
    "lep_charge_sum = lep_charge.sum()\n",
    "\n",
    "#Z_E=sum(lep_E)\n",
    "Ebit = ak.fromiter(higgs[tree].array(b'lep_E')*1e-3)\n",
    "Ebit = Ebit[The_Big_Filter]\n",
    "E = Ebit.sum()\n",
    "\n",
    "#Z_pl=sum(lep_pt*sinh(lep_eta))\n",
    "lep_pt = ak.fromiter(higgs[tree].array(b'lep_pt')*1e-3)\n",
    "lep_pt = lep_pt[The_Big_Filter]\n",
    "sinh_lep_eta = ak.fromiter(np.sinh(higgs[tree].array(b'lep_eta')))\n",
    "sinh_lep_eta = sinh_lep_eta[The_Big_Filter]\n",
    "prod =  lep_pt*sinh_lep_eta\n",
    "pl = prod.sum()\n",
    "\n",
    "#Sum lep types\n",
    "lep_type = ak.fromiter(higgs[tree].array(b'lep_type'))\n",
    "lep_type = lep_type[The_Big_Filter]\n",
    "leptons = lep_type.sum() \n",
    "\n",
    "#Z_pt=sqrt((sum(lep_pt*cos(lep_phi)))^2+(sum(lep_pt*sin(lep_phi)))^2)\n",
    "cos_lep_phi = ak.fromiter(np.cos(higgs[tree].array(b'lep_phi')))\n",
    "cos_lep_phi = cos_lep_phi[The_Big_Filter]\n",
    "sin_lep_phi = ak.fromiter(np.sin(higgs[tree].array(b'lep_phi')))\n",
    "sin_lep_phi = sin_lep_phi[The_Big_Filter]\n",
    "prod1 = lep_pt * cos_lep_phi\n",
    "prod2 = lep_pt * sin_lep_phi\n",
    "pt = np.sqrt((prod1.sum())**2+(prod2.sum())**2)\n",
    "\n",
    "#Missing transverse energy\n",
    "met_et = higgs[tree].array(b'met_et')*1e-3\n",
    "met_et = met_et[The_Big_Filter]\n",
    "\n",
    "#Store isTight values to filter later leptons \n",
    "#that don't pass the strictest requirements\n",
    "lep_tight = ak.fromiter(higgs[tree].array(b'lep_isTightID'))\n",
    "lep_tight = lep_tight[The_Big_Filter]\n",
    "lep_tight = lep_tight.sum()\n",
    "\n",
    "#Invariant mass of the four leptons\n",
    "#adds momentum component by component\n",
    "InvMass = np.sqrt(E**2-pt**2-pl**2)\n",
    "\n",
    "#here we calculated, with filtered arrays\n",
    "#all of the variables needed to determined the MC\n",
    "#weight of this dataset\n",
    "SF_u = ak.fromiter(higgs[tree].array(b'scaleFactor_MUON'))\n",
    "SF_u = SF_u[The_Big_Filter]\n",
    "\n",
    "SF_e = ak.fromiter(higgs[tree].array(b'scaleFactor_ELE'))\n",
    "SF_e = SF_e[The_Big_Filter]\n",
    "\n",
    "N = 2.16e-06\n",
    "SF_p = ak.fromiter(higgs[tree].array(b'scaleFactor_PILEUP'))\n",
    "SF_p = SF_p[The_Big_Filter]\n",
    "\n",
    "SF_l = ak.fromiter(higgs[tree].array(b'scaleFactor_LepTRIGGER'))\n",
    "SF_l = SF_l[The_Big_Filter]\n",
    "\n",
    "mcW = ak.fromiter(higgs[tree].array(b'mcWeight'))\n",
    "mcW = mcW[The_Big_Filter]\n",
    "\n",
    "#higgs weight calculated here\n",
    "higgs_weight = N * SF_u * SF_e * SF_p * SF_l * mcW\n",
    "\n",
    "data = {'pl':pl,'pt':pt,'E':E,'InvMass':InvMass,'lep_type':leptons, \n",
    "        'MET':met_et, 'lep_tight':lep_tight, 'higgs_weight':higgs_weight}\n",
    "df_higgs = pd.DataFrame(data)\n",
    "print(len(df_higgs['pl']))\n",
    "\n",
    "#filter the dataframes by lep_type\n",
    "df_higgs = df_higgs[df_higgs['lep_type']!=46]\n",
    "print(len(df_higgs['pl']))\n",
    "df_higgs = df_higgs[df_higgs['lep_type']!=50]\n",
    "print(len(df_higgs['pl']))"
   ]
  },
  {
   "cell_type": "markdown",
   "metadata": {},
   "source": [
    "# Make Plots of Invariant Mass"
   ]
  },
  {
   "cell_type": "code",
   "execution_count": 11,
   "metadata": {
    "scrolled": false
   },
   "outputs": [
    {
     "data": {
      "text/plain": [
       "<matplotlib.legend.Legend at 0x7fb510173390>"
      ]
     },
     "execution_count": 11,
     "metadata": {},
     "output_type": "execute_result"
    },
    {
     "data": {
      "image/png": "[encoded data removed]",
      "text/plain": [
       "<Figure size 720x360 with 1 Axes>"
      ]
     },
     "metadata": {
      "needs_background": "light"
     },
     "output_type": "display_data"
    },
    {
     "data": {
      "image/png": "[encoded data removed]",
      "text/plain": [
       "<Figure size 720x360 with 1 Axes>"
      ]
     },
     "metadata": {
      "needs_background": "light"
     },
     "output_type": "display_data"
    }
   ],
   "source": [
    "#Plot full distributions (filtered data)\n",
    "#INVARIANT MASS\n",
    "\n",
    "dataframes = [df_real_data,df_graviton,df_higgs]\n",
    "titles = [\"Real Data LOG\",\"Graviton LOG\",\"Higgs LOG\"]\n",
    "adj_titles = [\"Zoomed-In Real Data\",\"Zoomed-In Graviton\",\"Zoomed-In Higgs\"]\n",
    "minlims = [0,0,75]\n",
    "maxlims = [1000,1000,150]\n",
    "binning=[200,200,200]\n",
    "\n",
    "#Plot only data\n",
    "xtitle  = \"Invariant Mass [GeV]\"\n",
    "param = 'InvMass'\n",
    "fig,ax = make_fig(xTitle=xtitle,yTitle=ytitle)\n",
    "xlow = (df_real_data[param].min()-1)\n",
    "xhigh= (df_real_data[param].max()+1)\n",
    "nbins = 200\n",
    "bins  = np.linspace(xlow, xhigh, nbins)\n",
    "n, bins, patches = ax.hist(df_real_data[param], bins, alpha=0.5)\n",
    "textstr = '\\n'.join((\n",
    "r'$xhigh=%.2f$'+\"{:.2e}\".format(xhigh),\n",
    "r'$xlow=%.2f$'+\"{:.2e}\".format(xlow),\n",
    "r'$nbins=%.2f$'+\"{:.2e}\".format(nbins)))\n",
    "ax.text(0.80, 0.95, textstr, transform=ax.transAxes, fontsize=10,\n",
    "    verticalalignment='top')\n",
    "ax.set_title('Only Data')\n",
    "plt.yscale('log')\n",
    "\n",
    "#Plot histograms but with data as points\n",
    "fig,ax = make_fig(xTitle=xtitle,yTitle=ytitle)\n",
    "xlow = minlims[0]\n",
    "xhigh= maxlims[0]\n",
    "nbins = binning[0]\n",
    "bins  = np.linspace(xlow, xhigh, nbins)\n",
    "n, bins, patches = ax.hist(df_real_data[param],bins,alpha=0.5,stacked=False,color='k',label=\"Real Data\")\n",
    "plt.hist([df_higgs[param],df_graviton[param]],bins,alpha=0.7,stacked=True,\n",
    "         weights=[df_higgs['higgs_weight'],df_graviton['graviton_weight']],color=['r','g'],\n",
    "         label=[\"Higgs\",\"Graviton\"])\n",
    "textstr = '\\n'.join((\n",
    "r'$xhigh=%.2f$'+\"{:.2e}\".format(xhigh),\n",
    "r'$xlow=%.2f$'+\"{:.2e}\".format(xlow),\n",
    "r'$nbins=%.2f$'+\"{:.2e}\".format(nbins)))\n",
    "ax.text(0.80, 0.60, textstr, transform=ax.transAxes, fontsize=10,\n",
    "    verticalalignment='top')\n",
    "ax.set_title('Data with Background')\n",
    "ax.legend()\n"
   ]
  },
  {
   "cell_type": "code",
   "execution_count": null,
   "metadata": {},
   "outputs": [],
   "source": []
  }
 ],
 "metadata": {
  "kernelspec": {
   "display_name": "Python 3",
   "language": "python",
   "name": "python3"
  },
  "language_info": {
   "codemirror_mode": {
    "name": "ipython",
    "version": 3
   },
   "file_extension": ".py",
   "mimetype": "text/x-python",
   "name": "python",
   "nbconvert_exporter": "python",
   "pygments_lexer": "ipython3",
   "version": "3.7.1"
  }
 },
 "nbformat": 4,
 "nbformat_minor": 4
}
