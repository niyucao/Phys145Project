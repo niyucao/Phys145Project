{
 "cells": [
  {
   "cell_type": "markdown",
   "metadata": {},
   "source": [
    "# Plot Data vs. Background Given Our Cuts from Part 6.1!"
   ]
  },
  {
   "cell_type": "code",
   "execution_count": 1,
   "metadata": {},
   "outputs": [],
   "source": [
    "import uproot\n",
    "import numpy as np\n",
    "from numpy import ndarray\n",
    "import matplotlib.pyplot as plt\n",
    "import pandas as pd\n",
    "import textwrap\n",
    "import awkward as ak"
   ]
  },
  {
   "cell_type": "code",
   "execution_count": 2,
   "metadata": {},
   "outputs": [],
   "source": [
    "#open relevant files\n",
    "PeriodA = \"data_A.exactly2lep.root\"\n",
    "periodA = uproot.open(PeriodA)\n",
    "\n",
    "# PeriodB = \"data_B.exactly2lep.root\"\n",
    "# periodB = uproot.open(PeriodB)\n",
    "\n",
    "Slepton = \"mc_392916.SlepSlep_direct_100p5_1p0_2L8.exactly2lep.root\"\n",
    "slepton = uproot.open(Slepton)\n",
    "\n",
    "Background = \"mc_363492.llvv.exactly2lep (2).root\"\n",
    "background = uproot.open(Background)\n",
    "\n",
    "# Graviton = \"mc.graviton.4lep.root\"\n",
    "# graviton = uproot.open(Graviton)\n",
    "\n",
    "# Higgs = \"mc_345060.ggH125_ZZ4lep.4lep.root\"\n",
    "# higgs = uproot.open(Higgs)\n",
    "\n",
    "# Diboson = \"mc_363490.llll.VV.4lep.root\"\n",
    "# diboson = uproot.open(Diboson)\n",
    "\n",
    "# Zjets = \"mc_ZeeZmumu.4lep.root\"\n",
    "# zjets = uproot.open(Zjets)\n",
    "\n",
    "# TTbar = \"mc_410000.ttbar_lep.4lep.root\"\n",
    "# ttbar = uproot.open(TTbar)"
   ]
  },
  {
   "cell_type": "code",
   "execution_count": 3,
   "metadata": {},
   "outputs": [],
   "source": [
    "def make_fig(xTitle=\"xTitle\",yTitle=\"yTitle\"):\n",
    "    fig = plt.figure(figsize=(10,5))\n",
    "\n",
    "    ax = plt.gca()\n",
    "    ax.set_prop_cycle(color=['#002BFF','#A15FFF','#FF0061','#FF8913'])\n",
    "    ax.set_xlabel(xTitle,fontsize=18,labelpad=6)\n",
    "    ax.set_ylabel(yTitle,fontsize=18)\n",
    "    ax.tick_params(labelsize=10, direction='out', length=8, width=2)\n",
    "    ax.yaxis.offsetText.set_fontsize(10)\n",
    "    ax.xaxis.labelpad = 15\n",
    "    ax.yaxis.labelpad = 15\n",
    "    ax.tick_params(axis='both', which='major', labelsize=15)\n",
    "    \n",
    "    return fig, ax"
   ]
  },
  {
   "cell_type": "code",
   "execution_count": 4,
   "metadata": {},
   "outputs": [],
   "source": [
    "titles = ['Complete Histogram']\n",
    "ytitle = \"Number of Leptons\""
   ]
  },
  {
   "cell_type": "markdown",
   "metadata": {},
   "source": [
    "# Make Filters and Filtered Datasets"
   ]
  },
  {
   "cell_type": "code",
   "execution_count": 5,
   "metadata": {},
   "outputs": [
    {
     "name": "stdout",
     "output_type": "stream",
     "text": [
      "664613\n"
     ]
    }
   ],
   "source": [
    "#Make the Big Filter for the periodA\n",
    "tree    = b'mini;1'\n",
    "MET = ak.fromiter(periodA[tree].array(b'met_et')*1e-3)\n",
    "filterMET = MET>=100\n",
    "\n",
    "#filters the real dataset to satisfy ALL conditions\n",
    "The_Big_Filter = filterMET \n",
    "print(len(The_Big_Filter))"
   ]
  },
  {
   "cell_type": "code",
   "execution_count": 6,
   "metadata": {},
   "outputs": [
    {
     "name": "stdout",
     "output_type": "stream",
     "text": [
      "5442\n"
     ]
    }
   ],
   "source": [
    "#DataFrame creation for REAL DATA\n",
    "tree    = b'mini;1' \n",
    "\n",
    "lep_charge = ak.fromiter(periodA[tree].array(b'lep_charge'))\n",
    "lep_charge = lep_charge[The_Big_Filter]\n",
    "lep_charge_sum = lep_charge.sum()\n",
    "\n",
    "#Z_E=sum(lep_E)\n",
    "Ebit = ak.fromiter(periodA[tree].array(b'lep_E')*1e-3)\n",
    "Ebit = Ebit[The_Big_Filter]\n",
    "E = Ebit.sum()\n",
    "\n",
    "#Z_pl=sum(lep_pt*sinh(lep_eta))\n",
    "lep_pt = ak.fromiter(periodA[tree].array(b'lep_pt')*1e-3)\n",
    "lep_pt = lep_pt[The_Big_Filter]\n",
    "sinh_lep_eta = ak.fromiter(np.sinh(periodA[tree].array(b'lep_eta')))\n",
    "sinh_lep_eta = sinh_lep_eta[The_Big_Filter]\n",
    "prod =  lep_pt*sinh_lep_eta\n",
    "pl = prod.sum()\n",
    "\n",
    "#Sum lep types\n",
    "lep_type = ak.fromiter(periodA[tree].array(b'lep_type'))\n",
    "lep_type = lep_type[The_Big_Filter]\n",
    "leptons = lep_type.sum() \n",
    "\n",
    "#Z_pt=sqrt((sum(lep_pt*cos(lep_phi)))^2+(sum(lep_pt*sin(lep_phi)))^2)\n",
    "cos_lep_phi = ak.fromiter(np.cos(periodA[tree].array(b'lep_phi')))\n",
    "cos_lep_phi = cos_lep_phi[The_Big_Filter]\n",
    "sin_lep_phi = ak.fromiter(np.sin(periodA[tree].array(b'lep_phi')))\n",
    "sin_lep_phi = sin_lep_phi[The_Big_Filter]\n",
    "prod1 = lep_pt * cos_lep_phi\n",
    "prod2 = lep_pt * sin_lep_phi\n",
    "pt = np.sqrt((prod1.sum())**2+(prod2.sum())**2)\n",
    "\n",
    "#Missing transverse energy\n",
    "met_et = periodA[tree].array(b'met_et')*1e-3\n",
    "met_et = met_et[The_Big_Filter]\n",
    "\n",
    "#Store isTight values to filter later leptons \n",
    "#that don't pass the strictest requirements\n",
    "lep_tight = ak.fromiter(periodA[tree].array(b'lep_isTightID'))\n",
    "lep_tight = lep_tight[The_Big_Filter]\n",
    "lep_tight = lep_tight.sum()\n",
    "\n",
    "#Invariant mass of the four leptons\n",
    "#adds momentum component by component\n",
    "InvMass = np.sqrt(E**2-pt**2-pl**2)\n",
    "\n",
    "data = {'pl':pl,'pt':pt,'E':E,'InvMass':InvMass,'lep_type':leptons, \n",
    "        'MET':met_et, 'lep_tight':lep_tight, 'lep_charge':lep_charge_sum}\n",
    "df_periodA = pd.DataFrame(data)\n",
    "print(len(df_periodA['pl']))"
   ]
  },
  {
   "cell_type": "code",
   "execution_count": 7,
   "metadata": {},
   "outputs": [
    {
     "name": "stdout",
     "output_type": "stream",
     "text": [
      "664613\n"
     ]
    }
   ],
   "source": [
    "#Make the Big Filter for the periodA\n",
    "tree    = b'mini;1'\n",
    "MET = ak.fromiter(periodA[tree].array(b'met_et')*1e-3)\n",
    "filterMET = MET<100\n",
    "\n",
    "#This is a NULL filter - keeps all data in case we want to look at everything\n",
    "The_Big_Filter2 = filterMET \n",
    "The_Big_Filter2 = np.array(len(The_Big_Filter2)*[True])\n",
    "print(len(The_Big_Filter2))"
   ]
  },
  {
   "cell_type": "code",
   "execution_count": 8,
   "metadata": {},
   "outputs": [
    {
     "name": "stdout",
     "output_type": "stream",
     "text": [
      "664613\n"
     ]
    },
    {
     "name": "stderr",
     "output_type": "stream",
     "text": [
      "/Users/ninacao/anaconda3/lib/python3.7/site-packages/ipykernel_launcher.py:47: RuntimeWarning: invalid value encountered in sqrt\n"
     ]
    }
   ],
   "source": [
    "#DataFrame creation for REAL DATA\n",
    "tree    = b'mini;1' \n",
    "\n",
    "lep_charge = ak.fromiter(periodA[tree].array(b'lep_charge'))\n",
    "lep_charge = lep_charge[The_Big_Filter2]\n",
    "lep_charge_sum = lep_charge.sum()\n",
    "\n",
    "#Z_E=sum(lep_E)\n",
    "Ebit = ak.fromiter(periodA[tree].array(b'lep_E')*1e-3)\n",
    "Ebit = Ebit[The_Big_Filter2]\n",
    "E = Ebit.sum()\n",
    "\n",
    "#Z_pl=sum(lep_pt*sinh(lep_eta))\n",
    "lep_pt = ak.fromiter(periodA[tree].array(b'lep_pt')*1e-3)\n",
    "lep_pt = lep_pt[The_Big_Filter2]\n",
    "sinh_lep_eta = ak.fromiter(np.sinh(periodA[tree].array(b'lep_eta')))\n",
    "sinh_lep_eta = sinh_lep_eta[The_Big_Filter2]\n",
    "prod =  lep_pt*sinh_lep_eta\n",
    "pl = prod.sum()\n",
    "\n",
    "#Sum lep types\n",
    "lep_type = ak.fromiter(periodA[tree].array(b'lep_type'))\n",
    "lep_type = lep_type[The_Big_Filter2]\n",
    "leptons = lep_type.sum() \n",
    "\n",
    "#Z_pt=sqrt((sum(lep_pt*cos(lep_phi)))^2+(sum(lep_pt*sin(lep_phi)))^2)\n",
    "cos_lep_phi = ak.fromiter(np.cos(periodA[tree].array(b'lep_phi')))\n",
    "cos_lep_phi = cos_lep_phi[The_Big_Filter2]\n",
    "sin_lep_phi = ak.fromiter(np.sin(periodA[tree].array(b'lep_phi')))\n",
    "sin_lep_phi = sin_lep_phi[The_Big_Filter2]\n",
    "prod1 = lep_pt * cos_lep_phi\n",
    "prod2 = lep_pt * sin_lep_phi\n",
    "pt = np.sqrt((prod1.sum())**2+(prod2.sum())**2)\n",
    "\n",
    "#Missing transverse energy\n",
    "met_et = periodA[tree].array(b'met_et')*1e-3\n",
    "met_et = met_et[The_Big_Filter2]\n",
    "\n",
    "#Store isTight values to filter later leptons \n",
    "#that don't pass the strictest requirements\n",
    "lep_tight = ak.fromiter(periodA[tree].array(b'lep_isTightID'))\n",
    "lep_tight = lep_tight[The_Big_Filter2]\n",
    "lep_tight = lep_tight.sum()\n",
    "\n",
    "#Invariant mass of the four leptons\n",
    "#adds momentum component by component\n",
    "InvMass = np.sqrt(E**2-pt**2-pl**2)\n",
    "\n",
    "data = {'pl':pl,'pt':pt,'E':E,'InvMass':InvMass,'lep_type':leptons, \n",
    "        'MET':met_et, 'lep_tight':lep_tight, 'lep_charge':lep_charge_sum}\n",
    "df_periodA2 = pd.DataFrame(data)\n",
    "print(len(df_periodA2['pl']))"
   ]
  },
  {
   "cell_type": "code",
   "execution_count": 9,
   "metadata": {},
   "outputs": [
    {
     "name": "stdout",
     "output_type": "stream",
     "text": [
      "5511\n"
     ]
    }
   ],
   "source": [
    "#Make the Big Filter for the slepton\n",
    "tree    = b'mini;1'\n",
    "MET = ak.fromiter(slepton[tree].array(b'met_et')*1e-3)\n",
    "filterMET = MET>=100\n",
    "\n",
    "#filters the real dataset to satisfy ALL conditions\n",
    "The_Big_Filter3 = filterMET\n",
    "print(len(The_Big_Filter3))"
   ]
  },
  {
   "cell_type": "code",
   "execution_count": 10,
   "metadata": {},
   "outputs": [
    {
     "name": "stdout",
     "output_type": "stream",
     "text": [
      "1527\n"
     ]
    }
   ],
   "source": [
    "#DataFrame creation for REAL DATA\n",
    "tree    = b'mini;1' \n",
    "\n",
    "lep_charge = ak.fromiter(slepton[tree].array(b'lep_charge'))\n",
    "lep_charge = lep_charge[The_Big_Filter3]\n",
    "lep_charge_sum = lep_charge.sum()\n",
    "\n",
    "#Z_E=sum(lep_E)\n",
    "Ebit = ak.fromiter(slepton[tree].array(b'lep_E')*1e-3)\n",
    "Ebit = Ebit[The_Big_Filter3]\n",
    "E = Ebit.sum()\n",
    "\n",
    "#Z_pl=sum(lep_pt*sinh(lep_eta))\n",
    "lep_pt = ak.fromiter(slepton[tree].array(b'lep_pt')*1e-3)\n",
    "lep_pt = lep_pt[The_Big_Filter3]\n",
    "sinh_lep_eta = ak.fromiter(np.sinh(slepton[tree].array(b'lep_eta')))\n",
    "sinh_lep_eta = sinh_lep_eta[The_Big_Filter3]\n",
    "prod =  lep_pt*sinh_lep_eta\n",
    "pl = prod.sum()\n",
    "\n",
    "#Sum lep types\n",
    "lep_type = ak.fromiter(slepton[tree].array(b'lep_type'))\n",
    "lep_type = lep_type[The_Big_Filter3]\n",
    "leptons = lep_type.sum() \n",
    "\n",
    "#Z_pt=sqrt((sum(lep_pt*cos(lep_phi)))^2+(sum(lep_pt*sin(lep_phi)))^2)\n",
    "cos_lep_phi = ak.fromiter(np.cos(slepton[tree].array(b'lep_phi')))\n",
    "cos_lep_phi = cos_lep_phi[The_Big_Filter3]\n",
    "sin_lep_phi = ak.fromiter(np.sin(slepton[tree].array(b'lep_phi')))\n",
    "sin_lep_phi = sin_lep_phi[The_Big_Filter3]\n",
    "prod1 = lep_pt * cos_lep_phi\n",
    "prod2 = lep_pt * sin_lep_phi\n",
    "pt = np.sqrt((prod1.sum())**2+(prod2.sum())**2)\n",
    "\n",
    "#Missing transverse energy\n",
    "met_et = slepton[tree].array(b'met_et')*1e-3\n",
    "met_et = met_et[The_Big_Filter3]\n",
    "\n",
    "#Store isTight values to filter later leptons \n",
    "#that don't pass the strictest requirements\n",
    "lep_tight = ak.fromiter(slepton[tree].array(b'lep_isTightID'))\n",
    "lep_tight = lep_tight[The_Big_Filter3]\n",
    "lep_tight = lep_tight.sum()\n",
    "\n",
    "#Invariant mass of the four leptons\n",
    "#adds momentum component by component\n",
    "InvMass = np.sqrt(E**2-pt**2-pl**2)\n",
    "\n",
    "SF_u = ak.fromiter(slepton[tree].array(b'scaleFactor_MUON'))\n",
    "SF_u = SF_u[The_Big_Filter3]\n",
    "\n",
    "SF_e = ak.fromiter(slepton[tree].array(b'scaleFactor_ELE'))\n",
    "SF_e = SF_e[The_Big_Filter3]\n",
    "\n",
    "N = 1000*ak.fromiter(slepton[tree].array(b'XSection'))/ak.fromiter(slepton[tree].array(b'SumWeights'))\n",
    "N = N[The_Big_Filter3]\n",
    "\n",
    "SF_p = ak.fromiter(slepton[tree].array(b'scaleFactor_PILEUP'))\n",
    "SF_p = SF_p[The_Big_Filter3]\n",
    "\n",
    "SF_l = ak.fromiter(slepton[tree].array(b'scaleFactor_LepTRIGGER'))\n",
    "SF_l = SF_l[The_Big_Filter3]\n",
    "\n",
    "mcW = ak.fromiter(slepton[tree].array(b'mcWeight'))\n",
    "mcW = mcW[The_Big_Filter3]\n",
    "\n",
    "#slepton weight calculated here\n",
    "slepton_weight = N * SF_u * SF_e * SF_p * SF_l * mcW\n",
    "\n",
    "data = {'pl':pl,'pt':pt,'E':E,'InvMass':InvMass,'lep_type':leptons, \n",
    "        'MET':met_et, 'lep_tight':lep_tight, 'lep_charge':lep_charge_sum,'slepton_weight':slepton_weight}\n",
    "df_slepton3 = pd.DataFrame(data)\n",
    "print(len(df_slepton3['pl']))"
   ]
  },
  {
   "cell_type": "code",
   "execution_count": 11,
   "metadata": {},
   "outputs": [
    {
     "name": "stdout",
     "output_type": "stream",
     "text": [
      "3389180\n"
     ]
    }
   ],
   "source": [
    "#Make the Big Filter for the background\n",
    "tree    = b'mini;1'\n",
    "MET = ak.fromiter(background[tree].array(b'met_et')*1e-3)\n",
    "filterMET = MET>=100\n",
    "\n",
    "#filters the real dataset to satisfy ALL conditions\n",
    "The_Big_Filter3 = filterMET\n",
    "print(len(The_Big_Filter3))"
   ]
  },
  {
   "cell_type": "code",
   "execution_count": 12,
   "metadata": {},
   "outputs": [
    {
     "name": "stderr",
     "output_type": "stream",
     "text": [
      "/Users/ninacao/anaconda3/lib/python3.7/site-packages/ipykernel_launcher.py:47: RuntimeWarning: invalid value encountered in sqrt\n"
     ]
    },
    {
     "name": "stdout",
     "output_type": "stream",
     "text": [
      "618478\n"
     ]
    }
   ],
   "source": [
    "#DataFrame creation for background\n",
    "tree    = b'mini;1' \n",
    "\n",
    "lep_charge = ak.fromiter(background[tree].array(b'lep_charge'))\n",
    "lep_charge = lep_charge[The_Big_Filter3]\n",
    "lep_charge_sum = lep_charge.sum()\n",
    "\n",
    "#Z_E=sum(lep_E)\n",
    "Ebit = ak.fromiter(background[tree].array(b'lep_E')*1e-3)\n",
    "Ebit = Ebit[The_Big_Filter3]\n",
    "E = Ebit.sum()\n",
    "\n",
    "#Z_pl=sum(lep_pt*sinh(lep_eta))\n",
    "lep_pt = ak.fromiter(background[tree].array(b'lep_pt')*1e-3)\n",
    "lep_pt = lep_pt[The_Big_Filter3]\n",
    "sinh_lep_eta = ak.fromiter(np.sinh(background[tree].array(b'lep_eta')))\n",
    "sinh_lep_eta = sinh_lep_eta[The_Big_Filter3]\n",
    "prod =  lep_pt*sinh_lep_eta\n",
    "pl = prod.sum()\n",
    "\n",
    "#Sum lep types\n",
    "lep_type = ak.fromiter(background[tree].array(b'lep_type'))\n",
    "lep_type = lep_type[The_Big_Filter3]\n",
    "leptons = lep_type.sum() \n",
    "\n",
    "#Z_pt=sqrt((sum(lep_pt*cos(lep_phi)))^2+(sum(lep_pt*sin(lep_phi)))^2)\n",
    "cos_lep_phi = ak.fromiter(np.cos(background[tree].array(b'lep_phi')))\n",
    "cos_lep_phi = cos_lep_phi[The_Big_Filter3]\n",
    "sin_lep_phi = ak.fromiter(np.sin(background[tree].array(b'lep_phi')))\n",
    "sin_lep_phi = sin_lep_phi[The_Big_Filter3]\n",
    "prod1 = lep_pt * cos_lep_phi\n",
    "prod2 = lep_pt * sin_lep_phi\n",
    "pt = np.sqrt((prod1.sum())**2+(prod2.sum())**2)\n",
    "\n",
    "#Missing transverse energy\n",
    "met_et = background[tree].array(b'met_et')*1e-3\n",
    "met_et = met_et[The_Big_Filter3]\n",
    "\n",
    "#Store isTight values to filter later leptons \n",
    "#that don't pass the strictest requirements\n",
    "lep_tight = ak.fromiter(background[tree].array(b'lep_isTightID'))\n",
    "lep_tight = lep_tight[The_Big_Filter3]\n",
    "lep_tight = lep_tight.sum()\n",
    "\n",
    "#Invariant mass of the four leptons\n",
    "#adds momentum component by component\n",
    "InvMass = np.sqrt(E**2-pt**2-pl**2)\n",
    "\n",
    "SF_u = ak.fromiter(background[tree].array(b'scaleFactor_MUON'))\n",
    "SF_u = SF_u[The_Big_Filter3]\n",
    "\n",
    "SF_e = ak.fromiter(background[tree].array(b'scaleFactor_ELE'))\n",
    "SF_e = SF_e[The_Big_Filter3]\n",
    "\n",
    "N = 1000*ak.fromiter(background[tree].array(b'XSection'))/ak.fromiter(background[tree].array(b'SumWeights'))\n",
    "N = N[The_Big_Filter3]\n",
    "\n",
    "SF_p = ak.fromiter(background[tree].array(b'scaleFactor_PILEUP'))\n",
    "SF_p = SF_p[The_Big_Filter3]\n",
    "\n",
    "SF_l = ak.fromiter(background[tree].array(b'scaleFactor_LepTRIGGER'))\n",
    "SF_l = SF_l[The_Big_Filter3]\n",
    "\n",
    "mcW = ak.fromiter(background[tree].array(b'mcWeight'))\n",
    "mcW = mcW[The_Big_Filter3]\n",
    "\n",
    "#background weight calculated here\n",
    "background_weight = N * SF_u * SF_e * SF_p * SF_l * mcW\n",
    "\n",
    "data = {'pl':pl,'pt':pt,'E':E,'InvMass':InvMass,'lep_type':leptons, \n",
    "        'MET':met_et, 'lep_tight':lep_tight, 'lep_charge':lep_charge_sum,'background_weight':background_weight}\n",
    "df_background3 = pd.DataFrame(data)\n",
    "print(len(df_background3['pl']))"
   ]
  },
  {
   "cell_type": "code",
   "execution_count": 13,
   "metadata": {},
   "outputs": [
    {
     "data": {
      "text/plain": [
       "<matplotlib.legend.Legend at 0x7fe501754cf8>"
      ]
     },
     "execution_count": 13,
     "metadata": {},
     "output_type": "execute_result"
    },
    {
     "data": {
      "image/png": "[encoded data removed]",
      "text/plain": [
       "<Figure size 720x360 with 1 Axes>"
      ]
     },
     "metadata": {
      "needs_background": "light"
     },
     "output_type": "display_data"
    }
   ],
   "source": [
    "#Plot full distributions (filtered data)\n",
    "#INVARIANT MASS\n",
    "\n",
    "# dataframes = [df_periodA,df_periodA2]\n",
    "titles = [\"Period A LOG\"]\n",
    "minlims = [0,0,75,0,0,0]\n",
    "maxlims = [1000,1000,150,1000,400,300]\n",
    "binning=[200,200,200,200,75,75]\n",
    "\n",
    "#Plot only data\n",
    "xtitle  = \"Invariant Mass [GeV]\"\n",
    "param = 'InvMass'\n",
    "fig,ax = make_fig(xTitle=xtitle,yTitle=ytitle)\n",
    "xlow = (df_periodA[param].min()-1)\n",
    "xhigh= (df_periodA[param].max()+1)\n",
    "nbins = 200\n",
    "bins  = np.linspace(xlow, xhigh, nbins)\n",
    "plt.hist([df_background3[param],df_slepton3[param]],bins,alpha=0.5,stacked=True,color=['g','b'],\n",
    "        weights=[df_background3[\"background_weight\"],df_slepton3[\"slepton_weight\"]],\n",
    "        label=['Background',\"Slepton\"])\n",
    "#n, bins, patches = ax.hist(df_periodA3[param], bins, alpha=0.5,color='k',label=\"All Data\")\n",
    "n, bins, patches = ax.hist(df_periodA[param], bins, alpha=0.5,color='k',label=\"MET>=100GEV\")\n",
    "#n, bins, patches = ax.hist(df_slepton3[param], bins, alpha=0.5,color='g',label=\"Slepton\")\n",
    "#n, bins, patches = ax.hist(df_periodA2[param], bins, alpha=0.5,color='g',label=\"MET<100GEV\")\n",
    "#n, bins, patches = ax.hist(df_periodA[param]+df_periodA2[param], bins, alpha=0.5,color='r')\n",
    "\n",
    "textstr = '\\n'.join((\n",
    "r'$xhigh=%.2f$'+\"{:.2e}\".format(xhigh),\n",
    "r'$xlow=%.2f$'+\"{:.2e}\".format(xlow),\n",
    "r'$nbins=%.2f$'+\"{:.2e}\".format(nbins)))\n",
    "ax.text(0.80, 0.75, textstr, transform=ax.transAxes, fontsize=10,\n",
    "    verticalalignment='top')\n",
    "ax.set_title('Only Data')\n",
    "#ax.set_xlim(600,700)\n",
    "#plt.yscale('log')\n",
    "ax.legend()\n",
    "#ax.set_ylim(0,30)"
   ]
  },
  {
   "cell_type": "code",
   "execution_count": 17,
   "metadata": {},
   "outputs": [
    {
     "data": {
      "text/plain": [
       "Text(0, 0.5, 'MET [GeV]')"
      ]
     },
     "execution_count": 17,
     "metadata": {},
     "output_type": "execute_result"
    },
    {
     "data": {
      "image/png": "[encoded data removed]",
      "text/plain": [
       "<Figure size 720x360 with 2 Axes>"
      ]
     },
     "metadata": {
      "needs_background": "light"
     },
     "output_type": "display_data"
    },
    {
     "data": {
      "image/png": "[encoded data removed]",
      "text/plain": [
       "<Figure size 720x360 with 2 Axes>"
      ]
     },
     "metadata": {
      "needs_background": "light"
     },
     "output_type": "display_data"
    }
   ],
   "source": [
    "from matplotlib import cm\n",
    "Mtitle  = \"InvMass [GeV]\"\n",
    "Mparam   = 'InvMass'\n",
    "Xi_title  = \"MET [GeV]\"\n",
    "Xi_param   = \"MET\"\n",
    "\n",
    "seriesM1 = pd.Series(df_periodA[Mparam])\n",
    "seriesM2 = pd.Series(df_periodA2[Mparam])\n",
    "seriesX1 = pd.Series(df_periodA[Xi_param])\n",
    "seriesX2 = pd.Series(df_periodA2[Xi_param])\n",
    "\n",
    "#Mq1 = df_periodA[Mparam].quantile(.25)\n",
    "#Mq3 = df_periodA[Mparam].quantile(.75)\n",
    "#Xi_q1 = df_periodA[Xi_param].quantile(.25)\n",
    "#Xi_q3 = df_periodA[Xi_param].quantile(.75)\n",
    "fig, ax = make_fig(xTitle=xtitle,yTitle=ytitle)\n",
    "#adjust xlow by predetermined axis scaling\n",
    "Mxlow   = 60#together.min()-1 #(df_periodA[Mparam].min()-1)\n",
    "#adjust xhigh by predetermined axis scaling\n",
    "Mxhigh  = 120#together.max()+1 #(df_periodA[Mparam].max()+1)\n",
    "Xi_xlow   = seriesX2.min()-1#(df_periodA[Xi_param].min()-1)\n",
    "Xi_xhigh  = 100#together2.max()+1 #(df_periodA[Xi_param].max()+1)\n",
    "\n",
    "Mbins    = np.linspace(Mxlow, Mxhigh, 100)\n",
    "Xi_bins    = np.linspace(Xi_xlow, Xi_xhigh, 100)\n",
    "\n",
    "plt.hist2d(seriesM2, seriesX2,\n",
    "           bins =[Mbins, Xi_bins], cmap=cm.viridis)\n",
    "cbar = plt.colorbar()\n",
    "cbar.set_label('# of events, MC Data', rotation=270,labelpad=20)\n",
    "\n",
    "ax.set_xlabel(Mtitle)  \n",
    "ax.set_ylabel(Xi_title)\n",
    "\n",
    "#Mn, Mbins, Mpatches = ax.hist(df_periodA[Mparam], Mbins)\n",
    "\n",
    "textstr = '\\n'.join((\n",
    "r'$Mxhigh=%.2f$'+\"{:.2e}\".format(Mxhigh),\n",
    "r'$Mxlow=%.2f$'+\"{:.2e}\".format(Mxlow),\n",
    "r'$Mnbins=%.2f$'+\"{:.2e}\".format(100),\n",
    "r'$\\xi xhigh=%.2f$'+\"{:.2e}\".format(Xi_xhigh),\n",
    "r'$\\xi xlow=%.2f$'+\"{:.2e}\".format(Xi_xlow),\n",
    "r'$\\xi nbins=%.2f$'+\"{:.2e}\".format(100)))\n",
    "\n",
    "ax.text(0.75, 0.95, textstr, transform=ax.transAxes, fontsize=10,\n",
    "    verticalalignment='top', color='w')\n",
    "ax.ticklabel_format(axis=\"x\", style=\"sci\", scilimits=(0,0))\n",
    "ax.ticklabel_format(axis=\"y\", style=\"sci\", scilimits=(0,0))\n",
    "#ax.set_title(titles[1])\n",
    "\n",
    "#print explanations for each parameter's shape\n",
    "#my_wrap = textwrap.TextWrapper(width = 70)\n",
    "#wrap_list = my_wrap.wrap(text=explanations[param])\n",
    "#for line in wrap_list:\n",
    "#    print(line)\n",
    "\n",
    "fig, ax = make_fig(xTitle=xtitle,yTitle=ytitle)\n",
    "#adjust xlow by predetermined axis scaling\n",
    "Mxlow   = seriesM1.min()-1 #(df_periodA[Mparam].min()-1)\n",
    "#adjust xhigh by predetermined axis scaling\n",
    "Mxhigh  = 500#seriesM1.max()+1 #(df_periodA[Mparam].max()+1)\n",
    "Xi_xlow   = seriesX1.min()-1#(df_periodA[Xi_param].min()-1)\n",
    "Xi_xhigh  = 500#seriesX1.max()+1 #(df_periodA[Xi_param].max()+1)\n",
    "\n",
    "Mbins    = np.linspace(Mxlow, Mxhigh, 100)\n",
    "Xi_bins    = np.linspace(Xi_xlow, Xi_xhigh, 100)\n",
    "\n",
    "plt.hist2d(seriesM1, seriesX1,\n",
    "           bins =[Mbins, Xi_bins], cmap=cm.viridis)\n",
    "cbar = plt.colorbar()\n",
    "cbar.set_label('# of events, MC Data', rotation=270,labelpad=20)\n",
    "\n",
    "ax.set_xlabel(Mtitle)  \n",
    "ax.set_ylabel(Xi_title)"
   ]
  },
  {
   "cell_type": "code",
   "execution_count": null,
   "metadata": {},
   "outputs": [],
   "source": []
  }
 ],
 "metadata": {
  "kernelspec": {
   "display_name": "Python 3",
   "language": "python",
   "name": "python3"
  },
  "language_info": {
   "codemirror_mode": {
    "name": "ipython",
    "version": 3
   },
   "file_extension": ".py",
   "mimetype": "text/x-python",
   "name": "python",
   "nbconvert_exporter": "python",
   "pygments_lexer": "ipython3",
   "version": "3.7.1"
  }
 },
 "nbformat": 4,
 "nbformat_minor": 4
}
