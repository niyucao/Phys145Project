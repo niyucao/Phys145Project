{
 "cells": [
  {
   "cell_type": "code",
   "execution_count": 1,
   "metadata": {},
   "outputs": [
    {
     "name": "stdout",
     "output_type": "stream",
     "text": [
      "Populating the interactive namespace from numpy and matplotlib\n"
     ]
    }
   ],
   "source": [
    "%pylab inline\n",
    "import sys\n",
    "sys.path.insert(1, \"/global/u2/b/benjikan/.local/lib/python3.8/site-packages\")\n",
    "import uproot\n",
    "#import numpy as np\n",
    "#import matplotlib.pyplot as plt"
   ]
  },
  {
   "cell_type": "code",
   "execution_count": 2,
   "metadata": {},
   "outputs": [],
   "source": [
    "import random"
   ]
  },
  {
   "cell_type": "code",
   "execution_count": 22,
   "metadata": {},
   "outputs": [],
   "source": [
    "from scipy.stats import norm"
   ]
  },
  {
   "cell_type": "code",
   "execution_count": 6,
   "metadata": {
    "collapsed": true,
    "jupyter": {
     "outputs_hidden": true
    }
   },
   "outputs": [
    {
     "name": "stdout",
     "output_type": "stream",
     "text": [
      "['/global/cscratch1/sd/benjikan/desi', '/global/u2/b/benjikan/.local/lib/python3.8/site-packages', '/global/u2/b/benjikan/.local/lib/python3.8/site-packages', '', '/opt/mods/lib/python3.6/site-packages', '/opt/ovis/lib/python3.6/site-packages', '/usr/common/software/python/3.7-anaconda-2019.10/lib/python37.zip', '/usr/common/software/python/3.7-anaconda-2019.10/lib/python3.7', '/usr/common/software/python/3.7-anaconda-2019.10/lib/python3.7/lib-dynload', '/global/homes/b/benjikan/.local/lib/python3.7/site-packages', '/usr/common/software/python/3.7-anaconda-2019.10/lib/python3.7/site-packages', '/usr/common/software/python/3.7-anaconda-2019.10/lib/python3.7/site-packages/buildtest-0.8.0-py3.7.egg', '/usr/common/software/python/3.7-anaconda-2019.10/lib/python3.7/site-packages/distro-1.4.0-py3.7.egg', '/usr/common/software/python/3.7-anaconda-2019.10/lib/python3.7/site-packages/PyYAML-5.3.1-py3.7-linux-x86_64.egg', '/global/common/cori_cle7/software/python/3.7-anaconda-2019.10/lib/python3.7/site-packages', '/usr/common/software/python/3.7-anaconda-2019.10/lib/python3.7/site-packages/IPython/extensions', '/global/u2/b/benjikan/.ipython']\n"
     ]
    }
   ],
   "source": [
    "print(sys.path)"
   ]
  },
  {
   "cell_type": "code",
   "execution_count": 5,
   "metadata": {
    "collapsed": true,
    "jupyter": {
     "outputs_hidden": true
    }
   },
   "outputs": [
    {
     "ename": "ModuleNotFoundError",
     "evalue": "No module named 'awkward._ext'",
     "output_type": "error",
     "traceback": [
      "\u001b[0;31m---------------------------------------------------------------------------\u001b[0m",
      "\u001b[0;31mModuleNotFoundError\u001b[0m                       Traceback (most recent call last)",
      "\u001b[0;32m<ipython-input-5-4283a24bd14c>\u001b[0m in \u001b[0;36m<module>\u001b[0;34m\u001b[0m\n\u001b[1;32m      1\u001b[0m \u001b[0;32mimport\u001b[0m \u001b[0mrandom\u001b[0m\u001b[0;34m\u001b[0m\u001b[0;34m\u001b[0m\u001b[0m\n\u001b[0;32m----> 2\u001b[0;31m \u001b[0;32mimport\u001b[0m \u001b[0mawkward\u001b[0m \u001b[0;32mas\u001b[0m \u001b[0mak\u001b[0m\u001b[0;34m\u001b[0m\u001b[0;34m\u001b[0m\u001b[0m\n\u001b[0m\u001b[1;32m      3\u001b[0m \u001b[0;31m# import awkward0 as ak\u001b[0m\u001b[0;34m\u001b[0m\u001b[0;34m\u001b[0m\u001b[0;34m\u001b[0m\u001b[0m\n\u001b[1;32m      4\u001b[0m \u001b[0;32mfrom\u001b[0m \u001b[0mfunctools\u001b[0m \u001b[0;32mimport\u001b[0m \u001b[0mreduce\u001b[0m\u001b[0;34m\u001b[0m\u001b[0;34m\u001b[0m\u001b[0m\n",
      "\u001b[0;32m/global/u2/b/benjikan/.local/lib/python3.8/site-packages/awkward/__init__.py\u001b[0m in \u001b[0;36m<module>\u001b[0;34m\u001b[0m\n\u001b[1;32m     21\u001b[0m \u001b[0;34m\u001b[0m\u001b[0m\n\u001b[1;32m     22\u001b[0m \u001b[0;31m# shims for C++ (now everything is compiled into one 'awkward._ext' module)\u001b[0m\u001b[0;34m\u001b[0m\u001b[0;34m\u001b[0m\u001b[0;34m\u001b[0m\u001b[0m\n\u001b[0;32m---> 23\u001b[0;31m \u001b[0;32mimport\u001b[0m \u001b[0mawkward\u001b[0m\u001b[0;34m.\u001b[0m\u001b[0mlayout\u001b[0m\u001b[0;34m\u001b[0m\u001b[0;34m\u001b[0m\u001b[0m\n\u001b[0m\u001b[1;32m     24\u001b[0m \u001b[0;32mimport\u001b[0m \u001b[0mawkward\u001b[0m\u001b[0;34m.\u001b[0m\u001b[0mtypes\u001b[0m\u001b[0;34m\u001b[0m\u001b[0;34m\u001b[0m\u001b[0m\n\u001b[1;32m     25\u001b[0m \u001b[0;32mimport\u001b[0m \u001b[0mawkward\u001b[0m\u001b[0;34m.\u001b[0m\u001b[0mforms\u001b[0m\u001b[0;34m\u001b[0m\u001b[0;34m\u001b[0m\u001b[0m\n",
      "\u001b[0;32m/global/u2/b/benjikan/.local/lib/python3.8/site-packages/awkward/layout.py\u001b[0m in \u001b[0;36m<module>\u001b[0;34m\u001b[0m\n\u001b[1;32m      3\u001b[0m \u001b[0;32mfrom\u001b[0m \u001b[0m__future__\u001b[0m \u001b[0;32mimport\u001b[0m \u001b[0mabsolute_import\u001b[0m\u001b[0;34m\u001b[0m\u001b[0;34m\u001b[0m\u001b[0m\n\u001b[1;32m      4\u001b[0m \u001b[0;34m\u001b[0m\u001b[0m\n\u001b[0;32m----> 5\u001b[0;31m \u001b[0;32mfrom\u001b[0m \u001b[0mawkward\u001b[0m\u001b[0;34m.\u001b[0m\u001b[0m_ext\u001b[0m \u001b[0;32mimport\u001b[0m \u001b[0mIndex8\u001b[0m\u001b[0;34m\u001b[0m\u001b[0;34m\u001b[0m\u001b[0m\n\u001b[0m\u001b[1;32m      6\u001b[0m \u001b[0;32mfrom\u001b[0m \u001b[0mawkward\u001b[0m\u001b[0;34m.\u001b[0m\u001b[0m_ext\u001b[0m \u001b[0;32mimport\u001b[0m \u001b[0mIndexU8\u001b[0m\u001b[0;34m\u001b[0m\u001b[0;34m\u001b[0m\u001b[0m\n\u001b[1;32m      7\u001b[0m \u001b[0;32mfrom\u001b[0m \u001b[0mawkward\u001b[0m\u001b[0;34m.\u001b[0m\u001b[0m_ext\u001b[0m \u001b[0;32mimport\u001b[0m \u001b[0mIndex32\u001b[0m\u001b[0;34m\u001b[0m\u001b[0;34m\u001b[0m\u001b[0m\n",
      "\u001b[0;31mModuleNotFoundError\u001b[0m: No module named 'awkward._ext'"
     ]
    }
   ],
   "source": [
    "import random\n",
    "import awkward as ak\n",
    "# import awkward0 as ak\n",
    "from functools import reduce"
   ]
  },
  {
   "cell_type": "markdown",
   "metadata": {},
   "source": [
    "## Load data files"
   ]
  },
  {
   "cell_type": "markdown",
   "metadata": {},
   "source": [
    "mc sets"
   ]
  },
  {
   "cell_type": "code",
   "execution_count": 6,
   "metadata": {},
   "outputs": [],
   "source": [
    "s500_dm100_file =  uproot.open(\"mc_392942.SlepSlep_direct_500p0_100p0_2L8.exactly2lep.root\")"
   ]
  },
  {
   "cell_type": "code",
   "execution_count": 4,
   "metadata": {},
   "outputs": [],
   "source": [
    "s300_dm200_file =  uproot.open(\"mc_392951.SlepSlep_direct_300p0_200p0_2L8.exactly2lep.root\")"
   ]
  },
  {
   "cell_type": "code",
   "execution_count": 7,
   "metadata": {},
   "outputs": [],
   "source": [
    "s400_dm300_file = uproot.open(\"mc_392962.SlepSlep_direct_400p0_300p0_2L8.exactly2lep.root\")"
   ]
  },
  {
   "cell_type": "code",
   "execution_count": 8,
   "metadata": {},
   "outputs": [],
   "source": [
    "sets = [s500_dm100_file, s300_dm200_file, s400_dm300_file]"
   ]
  },
  {
   "cell_type": "markdown",
   "metadata": {},
   "source": [
    "data"
   ]
  },
  {
   "cell_type": "code",
   "execution_count": 9,
   "metadata": {},
   "outputs": [],
   "source": [
    "data_file = uproot.open(\"data_A.exactly2lep.root\")"
   ]
  },
  {
   "cell_type": "code",
   "execution_count": 12,
   "metadata": {
    "collapsed": true,
    "jupyter": {
     "outputs_hidden": true
    }
   },
   "outputs": [
    {
     "name": "stdout",
     "output_type": "stream",
     "text": [
      "Tree Name: mini;1\n",
      "Branches\n",
      "-------------\n",
      "runNumber\n",
      "eventNumber\n",
      "channelNumber\n",
      "mcWeight\n",
      "scaleFactor_PILEUP\n",
      "scaleFactor_ELE\n",
      "scaleFactor_MUON\n",
      "scaleFactor_PHOTON\n",
      "scaleFactor_TAU\n",
      "scaleFactor_BTAG\n",
      "scaleFactor_LepTRIGGER\n",
      "scaleFactor_PhotonTRIGGER\n",
      "trigE\n",
      "trigM\n",
      "trigP\n",
      "lep_n\n",
      "lep_truthMatched\n",
      "lep_trigMatched\n",
      "lep_pt\n",
      "lep_eta\n",
      "lep_phi\n",
      "lep_E\n",
      "lep_z0\n",
      "lep_charge\n",
      "lep_type\n",
      "lep_isTightID\n",
      "lep_ptcone30\n",
      "lep_etcone20\n",
      "lep_trackd0pvunbiased\n",
      "lep_tracksigd0pvunbiased\n",
      "met_et\n",
      "met_phi\n",
      "jet_n\n",
      "jet_pt\n",
      "jet_eta\n",
      "jet_phi\n",
      "jet_E\n",
      "jet_jvt\n",
      "jet_trueflav\n",
      "jet_truthMatched\n",
      "jet_MV2c10\n",
      "photon_n\n",
      "photon_truthMatched\n",
      "photon_trigMatched\n",
      "photon_pt\n",
      "photon_eta\n",
      "photon_phi\n",
      "photon_E\n",
      "photon_isTightID\n",
      "photon_ptcone30\n",
      "photon_etcone20\n",
      "photon_convType\n",
      "tau_n\n",
      "tau_pt\n",
      "tau_eta\n",
      "tau_phi\n",
      "tau_E\n",
      "tau_isTightID\n",
      "tau_truthMatched\n",
      "tau_trigMatched\n",
      "tau_nTracks\n",
      "tau_BDTid\n",
      "ditau_m\n",
      "lep_pt_syst\n",
      "met_et_syst\n",
      "jet_pt_syst\n",
      "photon_pt_syst\n",
      "tau_pt_syst\n",
      "XSection\n",
      "SumWeights\n",
      "largeRjet_n\n",
      "largeRjet_pt\n",
      "largeRjet_eta\n",
      "largeRjet_phi\n",
      "largeRjet_E\n",
      "largeRjet_m\n",
      "largeRjet_truthMatched\n",
      "largeRjet_D2\n",
      "largeRjet_tau32\n",
      "largeRjet_pt_syst\n",
      "tau_charge\n",
      "-------------\n"
     ]
    }
   ],
   "source": [
    "# Check out what is inside of the file\n",
    "for eNum, event in data_file.items():\n",
    "    print(\"Tree Name: {}\".format(eNum))\n",
    "    print(\"Branches\")\n",
    "    print(\"-------------\")\n",
    "    for tName, tree in event.items():\n",
    "        print(tName)\n",
    "        for bName, branch in tree.items():\n",
    "            print(branch.keys())\n",
    "    print(\"-------------\")"
   ]
  },
  {
   "cell_type": "code",
   "execution_count": 19,
   "metadata": {},
   "outputs": [
    {
     "name": "stdout",
     "output_type": "stream",
     "text": [
      "664613\n",
      "float32\n"
     ]
    },
    {
     "data": {
      "text/plain": [
       "dtype('float32')"
      ]
     },
     "execution_count": 19,
     "metadata": {},
     "output_type": "execute_result"
    }
   ],
   "source": [
    "tree    = 'mini;1'\n",
    "branch  = 'lep_phi'\n",
    "phi_data = np.array(data_file[tree][branch])\n",
    "print(len(phi_data))\n",
    "# print(phi_data[0].dtype)\n",
    "phi_data = np.array([i for i in phi_data])\n",
    "phi_data.dtype"
   ]
  },
  {
   "cell_type": "markdown",
   "metadata": {},
   "source": [
    "background"
   ]
  },
  {
   "cell_type": "code",
   "execution_count": 10,
   "metadata": {},
   "outputs": [],
   "source": [
    "b_ZZ_qqll = uproot.open(\"mc_363356.ZqqZll.exactly2lep.root\")"
   ]
  },
  {
   "cell_type": "code",
   "execution_count": 11,
   "metadata": {},
   "outputs": [],
   "source": [
    "b_WZ_qqll = uproot.open(\"mc_363358.WqqZll.exactly2lep.root\")"
   ]
  },
  {
   "cell_type": "code",
   "execution_count": 12,
   "metadata": {},
   "outputs": [],
   "source": [
    "b_dib_llvv = uproot.open(\"mc_363492.llvv.exactly2lep.root\")"
   ]
  },
  {
   "cell_type": "code",
   "execution_count": 13,
   "metadata": {},
   "outputs": [],
   "source": [
    "b_tt = uproot.open(\"mc_410000.ttbar_lep.exactly2lep.root\")"
   ]
  },
  {
   "cell_type": "code",
   "execution_count": 14,
   "metadata": {},
   "outputs": [],
   "source": [
    "bg = [b_ZZ_qqll, b_WZ_qqll, b_dib_llvv, b_tt]"
   ]
  },
  {
   "cell_type": "markdown",
   "metadata": {},
   "source": [
    "extra background"
   ]
  },
  {
   "cell_type": "code",
   "execution_count": 684,
   "metadata": {},
   "outputs": [],
   "source": [
    "#b_WW_qqlv = uproot.open(\"mc_363359.WpqqWmlv.exactly2lep.root\")"
   ]
  },
  {
   "cell_type": "code",
   "execution_count": 685,
   "metadata": {},
   "outputs": [],
   "source": [
    "#b_WW_lvqq = uproot.open(\"mc_363360.WplvWmqq.exactly2lep.root\")"
   ]
  },
  {
   "cell_type": "code",
   "execution_count": 686,
   "metadata": {},
   "outputs": [],
   "source": [
    "#b_WZ_lvqq = uproot.open(\"mc_363489.WlvZqq.exactly2lep.root\")"
   ]
  },
  {
   "cell_type": "code",
   "execution_count": 689,
   "metadata": {},
   "outputs": [],
   "source": [
    "# e_bg = [b_WW_qqlv, b_WW_lvqq, b_WZ_lvqq]"
   ]
  },
  {
   "cell_type": "code",
   "execution_count": 96,
   "metadata": {},
   "outputs": [],
   "source": [
    "#files_1 = [data_file, s500_dm1_file]\n",
    "#files_2 = [data_file, s100_dm50_file]\n",
    "#files_3 = [data_file, s200_dm100_file]"
   ]
  },
  {
   "cell_type": "code",
   "execution_count": 15,
   "metadata": {},
   "outputs": [],
   "source": [
    "#files_1.extend(bg)\n",
    "#files_2.extend(bg)\n",
    "#files_3.extend(bg)\n",
    "allfiles = [data_file]\n",
    "allfiles.extend(sets)\n",
    "allfiles.extend(bg)"
   ]
  },
  {
   "cell_type": "markdown",
   "metadata": {},
   "source": [
    "## Functions"
   ]
  },
  {
   "cell_type": "code",
   "execution_count": 16,
   "metadata": {},
   "outputs": [],
   "source": [
    "SMALL_SIZE = 14\n",
    "BIGGER_SIZE = 16\n",
    "\n",
    "plt.rc('font', size=SMALL_SIZE)          # controls default text sizes\n",
    "plt.rc('axes', titlesize=BIGGER_SIZE)     # fontsize of the axes title\n",
    "plt.rc('axes', labelsize=BIGGER_SIZE)    # fontsize of the x and y labels\n",
    "plt.rc('xtick', labelsize=SMALL_SIZE)    # fontsize of the tick labels\n",
    "plt.rc('ytick', labelsize=SMALL_SIZE)    # fontsize of the tick labels\n",
    "plt.rc('legend', fontsize=SMALL_SIZE)    # legend fontsize\n",
    "plt.rc('figure', titlesize=BIGGER_SIZE)  # fontsize of the figure title\n",
    "plt.rc('lines', linewidth = 3)\n",
    "plt.rc('figure', figsize= (7, 5))"
   ]
  },
  {
   "cell_type": "code",
   "execution_count": 17,
   "metadata": {},
   "outputs": [],
   "source": [
    "def make_fig(xTitle=\"xTitle\",yTitle=\"yTitle\"):\n",
    "    fig = plt.figure()\n",
    "    ax = plt.gca()\n",
    "    ax.set_prop_cycle(color=['#002BFF','#A15FFF','#FF0061','#FF8913', '#03506f', '#ff8e71', '#d8ac9c'])\n",
    "    ax.set_xlabel(xTitle,labelpad=6)\n",
    "    ax.set_ylabel(yTitle)\n",
    "    ax.tick_params(direction='out', length=8, width=2)\n",
    "    ax.yaxis.offsetText.set_fontsize(10)\n",
    "    #ax.xaxis.labelpad = 15\n",
    "    #ax.yaxis.labelpad = 15\n",
    "    ax.tick_params(axis='both', which='major', labelsize=15)\n",
    "    figsize = (7,3)\n",
    "    return fig, ax"
   ]
  },
  {
   "cell_type": "markdown",
   "metadata": {
    "jupyter": {
     "source_hidden": true
    }
   },
   "source": [
    "Old\n",
    "def mt2(file, mdm, indices = None):\n",
    "    mets = file[b'mini;1'].array(b'met_et')\n",
    "    mets_phi = file[b'mini;1'].array(b'met_phi')\n",
    "    lep_pt = file[b'mini;1'].array(b'lep_pt')\n",
    "    lep_eta = file[b'mini;1'].array(b'lep_eta')\n",
    "    lep_e = file[b'mini;1'].array(b'lep_E')\n",
    "    lep_phi = file[b'mini;1'].array(b'lep_phi')\n",
    "    if indices is not None:\n",
    "        mets = np.take(mets, indices)\n",
    "        mets = ak.fromiter(mets)\n",
    "        mets_phi = np.take(mets_phi, indices)\n",
    "        mets_phi = ak.fromiter(mets_phi)\n",
    "        lep_pt = np.take(lep_pt, indices)\n",
    "        lep_pt = ak.fromiter(lep_pt)\n",
    "        lep_eta = np.take(lep_eta, indices)\n",
    "        lep_eta = ak.fromiter(lep_eta)\n",
    "        lep_phi = np.take(lep_phi, indices)\n",
    "        lep_phi = ak.fromiter(lep_phi)\n",
    "        lep_e = np.take(lep_e, indices)\n",
    "        lep_e = ak.fromiter(lep_e)\n",
    "\n",
    "    lep_p = np.multiply(lep_pt, np.cosh(lep_eta))\n",
    "    mpts = np.sqrt(mets**2 - mdm**2)\n",
    "    lep_et = lep_e*(lep_pt/lep_p)\n",
    "    \n",
    "    splittings_mag = []\n",
    "    for mpt in mpts: # for each event, create 10 splittings\n",
    "        splittings_mag.append(np.linspace(0, mpt, 10))\n",
    "    s_phi = np.linspace(0, 2*pi, 10)\n",
    "    \n",
    "    mt2 = []\n",
    "    for i, qs in enumerate(splittings_mag):\n",
    "        #print(i)\n",
    "        max_mtq = []\n",
    "        for q in qs:\n",
    "            eq = np.sqrt(q**2 + mdm**2)\n",
    "            vec_mpt = np.array([[mpts[i]*np.cos(mets_phi[i]), mpts[i]*np.sin(mets_phi[i])]]*len(s_phi))\n",
    "            vec_q = np.column_stack([q*np.cos(s_phi), q*np.sin(s_phi)])\n",
    "            vec_minq = np.array(vec_mpt - vec_q)\n",
    "            vec_lep1 = np.array([[lep_pt[i][0]*np.cos(lep_phi[i][0]), lep_pt[i][0]*np.sin(lep_phi[i][0])]]*len(s_phi))\n",
    "            vec_lep2 = np.array([[lep_pt[i][1]*np.cos(lep_phi[i][1]), lep_pt[i][1]*np.sin(lep_phi[i][1])]]*len(s_phi))\n",
    "            eqmin = np.sqrt(np.array([sum(x) for x in np.multiply(vec_minq, vec_minq)]) + mdm**2)\n",
    "            \n",
    "            p1qt = np.array([sum(x) for x in np.multiply(vec_q, vec_lep1)])\n",
    "            p2mqt = np.array([sum(x) for x in np.multiply(vec_minq, vec_lep2)])\n",
    "            \n",
    "            mtalpha = np.sqrt(2*(lep_et[i][0]*eq - p1qt))\n",
    "            mtbeta =  np.sqrt(2*(lep_et[i][1]*eqmin - p2mqt))\n",
    "            #mtalpha = np.where(np.isnan(mtalpha), -1, mtalpha)\n",
    "            #mtbeta = np.where(np.isnan(mtbeta), -1, mtbeta)\n",
    "            \n",
    "            max_mtq.append(np.where(mtalpha >= mtbeta, mtalpha, mtbeta))\n",
    "        max_mtq = np.array(max_mtq)\n",
    "        mask = (np.isnan(max_mtq))\n",
    "        max_mtq[mask] = -1\n",
    "        max_mtq[mask] = np.max(max_mtq)+1\n",
    "        mt2.append(np.min(max_mtq))\n",
    "    return np.array(mt2)"
   ]
  },
  {
   "cell_type": "markdown",
   "metadata": {
    "jupyter": {
     "source_hidden": true
    }
   },
   "source": [
    "def filter_slep(file, mdm):\n",
    "    lep_type = file[b'mini;1'].array(b'lep_type')\n",
    "    lep_char = file[b'mini;1'].array(b'lep_charge')\n",
    "    mets = file[b'mini;1'].array(b'met_et')\n",
    "    jets = file[b'mini;1'].array(b'jet_n')\n",
    "    photons = file[b'mini;1'].array(b'photon_n')\n",
    "    Rjet = file[b'mini;1'].array(b'largeRjet_n')\n",
    "    taus = file[b'mini;1'].array(b'tau_n')\n",
    "    \n",
    "    lep_ts = np.array([np.sum(lt) for lt in lep_type]) # lepton types\n",
    "    lep_cs = np.array([np.sum(ls) for ls in lep_char]) # lepton charges\n",
    "    #njets = np.array([np.sum(j) for j in jets])\n",
    "    \n",
    "    ind1 = np.where(mets >= mdm)[0]\n",
    "    ind2 = np.where(lep_ts != 24)[0]\n",
    "    ind3 = np.where(lep_cs == 0)[0]\n",
    "    ind4 = np.where(jets == 0)[0]\n",
    "    ind5 = np.where(photons == 0)[0] # no photons?\n",
    "    ind6 = np.where(Rjet == 0)[0]\n",
    "    ind7 = np.where(taus == 0)[0]\n",
    "    indices = reduce(np.intersect1d, (ind1, ind2, ind3, ind4, ind5, ind6, ind7))\n",
    "    return indices"
   ]
  },
  {
   "cell_type": "code",
   "execution_count": 36,
   "metadata": {
    "collapsed": true,
    "jupyter": {
     "outputs_hidden": true,
     "source_hidden": true
    }
   },
   "outputs": [
    {
     "data": {
      "text/plain": [
       "array([[147913.45 ,  21271.793],\n",
       "       [ 42967.836,  55135.395],\n",
       "       [ 35314.3  , 126647.13 ],\n",
       "       ...,\n",
       "       [153971.53 ,  54370.746],\n",
       "       [ 30353.84 ,  13895.435],\n",
       "       [382260.84 , 242830.03 ]], dtype=float32)"
      ]
     },
     "execution_count": 36,
     "metadata": {},
     "output_type": "execute_result"
    }
   ],
   "source": [
    "np.take(phi_data, (0, 1, 2, 3))\n",
    "np.multiply(extract_branch(data_file, 'lep_pt'), np.cosh(extract_branch(data_file, 'lep_eta')))"
   ]
  },
  {
   "cell_type": "code",
   "execution_count": 18,
   "metadata": {},
   "outputs": [],
   "source": [
    "def extract_branch(file, branchname):\n",
    "    branchtemp = np.array(file['mini;1'][branchname])\n",
    "    branchtemp = np.array([i for i in branchtemp])\n",
    "    return branchtemp"
   ]
  },
  {
   "cell_type": "code",
   "execution_count": 19,
   "metadata": {},
   "outputs": [],
   "source": [
    "def mt2(file, mdm, indices = None):\n",
    "    mets = extract_branch(file, 'met_et')\n",
    "    mets_phi = extract_branch(file, 'met_phi')\n",
    "    lep_pt = extract_branch(file, 'lep_pt')\n",
    "    lep_eta = extract_branch(file, 'lep_eta')\n",
    "    lep_e = extract_branch(file, 'lep_E')\n",
    "    lep_phi = extract_branch(file, 'lep_phi')\n",
    "    if indices is not None:\n",
    "        mets = np.take(mets, indices, axis=0)\n",
    "        # mets = ak.fromiter(mets)\n",
    "        mets_phi = np.take(mets_phi, indices, axis=0)\n",
    "        # mets_phi = ak.fromiter(mets_phi)\n",
    "        lep_pt = np.take(lep_pt, indices, axis=0)\n",
    "        # lep_pt = ak.fromiter(lep_pt)\n",
    "        lep_eta = np.take(lep_eta, indices, axis=0)\n",
    "        # lep_eta = ak.fromiter(lep_eta)\n",
    "        lep_phi = np.take(lep_phi, indices, axis=0)\n",
    "        # lep_phi = ak.fromiter(lep_phi)\n",
    "        lep_e = np.take(lep_e, indices, axis=0)\n",
    "        # lep_e = ak.fromiter(lep_e)\n",
    "\n",
    "    lep_p = np.multiply(lep_pt, np.cosh(lep_eta))\n",
    "    mpts = np.sqrt(mets**2 - mdm**2)\n",
    "    lep_et = lep_e*(lep_pt/lep_p)\n",
    "    \n",
    "    splittings_mag = []\n",
    "    for mpt in mpts: # for each event, create 10 splittings\n",
    "        splittings_mag.append(np.linspace(0, mpt, 10))\n",
    "    s_phi = np.linspace(0, 2*pi, 10)\n",
    "    \n",
    "    print(np.shape(splittings_mag))\n",
    "    \n",
    "    mt2 = []\n",
    "    for i, qs in enumerate(splittings_mag):\n",
    "        #print(i)\n",
    "        max_mtq = []\n",
    "        for q in qs:\n",
    "            eq = np.sqrt(q**2 + mdm**2)\n",
    "            vec_mpt = np.array([[mpts[i]*np.cos(mets_phi[i]), mpts[i]*np.sin(mets_phi[i])]]*len(s_phi))\n",
    "            vec_q = np.column_stack([q*np.cos(s_phi), q*np.sin(s_phi)])\n",
    "            vec_minq = np.array(vec_mpt - vec_q)\n",
    "            # print(lep_pt)\n",
    "            # print(lep_pt[i])\n",
    "            vec_lep1 = np.array([[lep_pt[i][0]*np.cos(lep_phi[i][0]), lep_pt[i][0]*np.sin(lep_phi[i][0])]]*len(s_phi))\n",
    "            vec_lep2 = np.array([[lep_pt[i][1]*np.cos(lep_phi[i][1]), lep_pt[i][1]*np.sin(lep_phi[i][1])]]*len(s_phi))\n",
    "            eqmin = np.sqrt(np.array([sum(x) for x in np.multiply(vec_minq, vec_minq)]) + mdm**2)\n",
    "            \n",
    "            p1qt = np.array([sum(x) for x in np.multiply(vec_q, vec_lep1)])\n",
    "            p2mqt = np.array([sum(x) for x in np.multiply(vec_minq, vec_lep2)])\n",
    "            \n",
    "            mtalpha = np.sqrt(2*(lep_et[i][0]*eq - p1qt))\n",
    "            mtbeta =  np.sqrt(2*(lep_et[i][1]*eqmin - p2mqt))\n",
    "            #mtalpha = np.where(np.isnan(mtalpha), -1, mtalpha)\n",
    "            #mtbeta = np.where(np.isnan(mtbeta), -1, mtbeta)\n",
    "            \n",
    "            max_mtq.append(np.where(mtalpha >= mtbeta, mtalpha, mtbeta))\n",
    "        max_mtq = np.array(max_mtq)\n",
    "        mask = (np.isnan(max_mtq))\n",
    "        max_mtq[mask] = -1\n",
    "        max_mtq[mask] = np.max(max_mtq)+1\n",
    "        mt2.append(np.min(max_mtq))\n",
    "    return np.array(mt2)"
   ]
  },
  {
   "cell_type": "code",
   "execution_count": 20,
   "metadata": {},
   "outputs": [],
   "source": [
    "def filter_slep(file, mdm):\n",
    "    lep_type = extract_branch(file, 'lep_type')\n",
    "    lep_char = extract_branch(file, 'lep_charge')\n",
    "    mets = extract_branch(file, 'met_et')\n",
    "    jets = extract_branch(file, 'jet_n')\n",
    "    photons = extract_branch(file, 'photon_n')\n",
    "    Rjet = extract_branch(file, 'largeRjet_n')\n",
    "    taus = extract_branch(file, 'tau_n')\n",
    "    \n",
    "    lep_ts = np.array([np.sum(lt) for lt in lep_type]) # lepton types\n",
    "    lep_cs = np.array([np.sum(ls) for ls in lep_char]) # lepton charges\n",
    "    #njets = np.array([np.sum(j) for j in jets])\n",
    "    \n",
    "    ind1 = mets >= mdm #np.where(mets >= mdm)[0]\n",
    "    ind2 = lep_ts != 24 #np.where(lep_ts != 24)[0]\n",
    "    ind3 = lep_cs == 0 #np.where(lep_cs == 0)[0]\n",
    "    ind4 = jets == 0 #np.where(jets == 0)[0]\n",
    "    ind5 = photons == 0 #np.where(photons == 0)[0] # no photons?\n",
    "    ind6 = Rjet == 0 #np.where(Rjet == 0)[0]\n",
    "    ind7 = taus == 0 #np.where(taus == 0)[0]\n",
    "    # print(ind1)\n",
    "    indices = ind1 & ind2 & ind3 & ind4 & ind5 & ind6 & ind7 # indices = reduce(np.intersect1d, (ind1, ind2, ind3, ind4, ind5, ind6, ind7))\n",
    "    return np.argwhere(indices)"
   ]
  },
  {
   "cell_type": "code",
   "execution_count": 21,
   "metadata": {},
   "outputs": [],
   "source": [
    "lumi=10\n",
    "def get_N(file):\n",
    "    return lumi*1000*extract_branch(file, 'XSection')/extract_branch(file, 'SumWeights')"
   ]
  },
  {
   "cell_type": "code",
   "execution_count": 23,
   "metadata": {},
   "outputs": [],
   "source": [
    "def get_pval(ratios, errors):\n",
    "    pvals = []\n",
    "    for i, rat in enumerate(ratios):\n",
    "        if rat == 0:\n",
    "            pvals.append(0)\n",
    "        else:\n",
    "            z = (rat - 1)/errors[i]\n",
    "            if z < 0:\n",
    "                pvals.append(norm.cdf(z))\n",
    "            else:\n",
    "                pvals.append(1-norm.cdf(z))\n",
    "    return pvals"
   ]
  },
  {
   "cell_type": "markdown",
   "metadata": {},
   "source": [
    "## Analysis of MC datasets"
   ]
  },
  {
   "cell_type": "markdown",
   "metadata": {},
   "source": [
    "Look at MET distribution of MC datasets."
   ]
  },
  {
   "cell_type": "code",
   "execution_count": 25,
   "metadata": {
    "scrolled": true
   },
   "outputs": [
    {
     "data": {
      "text/plain": [
       "<matplotlib.legend.Legend at 0x2aab7be60a50>"
      ]
     },
     "execution_count": 25,
     "metadata": {},
     "output_type": "execute_result"
    },
    {
     "data": {
      "image/png": "[encoded data removed]",
      "text/plain": [
       "<Figure size 504x360 with 1 Axes>"
      ]
     },
     "metadata": {
      "needs_background": "light"
     },
     "output_type": "display_data"
    }
   ],
   "source": [
    "make_fig(\"Met (GeV)\", \"Number of events\")\n",
    "title(\"Missing energy\")\n",
    "nbins   = 100 # number of bins in histogram\n",
    "xlow    = 0\n",
    "xhigh   = 1000\n",
    "bins    = np.linspace(xlow, xhigh, nbins)\n",
    "for i in range(len(sets)):\n",
    "    n, bins, patches = plt.hist(extract_branch(sets[i], 'met_et')/1e3, bins, alpha = 0.7)\n",
    "legend([\"Ml 500 Gev MDM 100 Gev\", \"Ml 300 Gev MDM 200 Gev\", \"Ml 400 Gev MDM 300 Gev\"])\n",
    "#sets = [s500_dm100_file, s300_dm200_file, s400_dm300_file]"
   ]
  },
  {
   "cell_type": "markdown",
   "metadata": {},
   "source": [
    "We build something called \"stransverse mass\". Recall regular transverse mass for a 1-> 2 decay:\n",
    "\\begin{align}\n",
    "m_T = \\sqrt{2 (E_{T1}E_{T2} - \\mathbf{p_{T1}\\cdot p_{T2}})}\n",
    "\\end{align}\n",
    "or \n",
    "\\begin{align}\n",
    "m_T = \\sqrt{2 (E_{T1}E_{T2} - |p_{T1}||p_{T2}|\\cos(\\Delta \\phi)}\n",
    "\\end{align}\n",
    "Where \n",
    "\\begin{align}\n",
    "E_T = E\\frac{|p_T|}{|p|}\n",
    "\\end{align}\n",
    "and\n",
    "\\begin{align}\n",
    "m_T \\leq m\n",
    "\\end{align}\n",
    "\n",
    "Here, we have two $\\tilde l-> l + DM$, where the $DM$ goes into $MET$. However, we don't know how the $MET$ is split up between the two unknown $DM$ particles, which means we have to split $\\mathbf{p_{T}}^{miss}$ into all possible combinations $\\mathbf{q_T}$ and $\\mathbf{p_{T}}^{miss} - \\mathbf{q_T}$. Then, we define the the $m_{T2}$ variable (\"stransverse mass\") as:\n",
    "\\begin{align}\n",
    "m_{T2} = \\text{min}_{\\mathbf{q_T}}\\bigg \\{\\text{max} \\big[m_T(\\mathbf{p_T^{\\alpha}}, \\mathbf{q_T}, MDM), m_T(\\mathbf{p_T^{\\beta}}, \\mathbf{p_{T}}^{miss} - \\mathbf{q_T}, MDM)]\\big]\\bigg\\}\n",
    "\\end{align}\n",
    "\n",
    "Where $\\alpha$ and $\\beta$ indicate the two respective $\\tilde{l} -> l + DM$ decays we are looking at.\n",
    "\n",
    "Note that we assume $|p_T| \\approx |p|$.\n",
    "\n",
    "$m_{T2}$ satisfies the inequality:\n",
    "\\begin{align}\n",
    "m_{T2}^2 \\leq m_{\\tilde l}^2 - MDM^2\n",
    "\\end{align}"
   ]
  },
  {
   "cell_type": "code",
   "execution_count": 26,
   "metadata": {},
   "outputs": [
    {
     "name": "stderr",
     "output_type": "stream",
     "text": [
      "/usr/common/software/python/3.7-anaconda-2019.10/lib/python3.7/site-packages/ipykernel_launcher.py:23: RuntimeWarning: invalid value encountered in sqrt\n"
     ]
    },
    {
     "name": "stdout",
     "output_type": "stream",
     "text": [
      "(6622, 10)\n"
     ]
    },
    {
     "name": "stderr",
     "output_type": "stream",
     "text": [
      "/usr/common/software/python/3.7-anaconda-2019.10/lib/python3.7/site-packages/ipykernel_launcher.py:56: RuntimeWarning: invalid value encountered in greater_equal\n"
     ]
    },
    {
     "name": "stdout",
     "output_type": "stream",
     "text": [
      "(6252, 10)\n",
      "(6378, 10)\n"
     ]
    }
   ],
   "source": [
    "mt2_sets = []\n",
    "mdms = [100e3, 200e3, 300e3]\n",
    "for i, s in enumerate(sets):\n",
    "    mt2_sets.append(mt2(s, mdms[i]))"
   ]
  },
  {
   "cell_type": "markdown",
   "metadata": {},
   "source": [
    "## Random sampling of data"
   ]
  },
  {
   "cell_type": "code",
   "execution_count": 27,
   "metadata": {},
   "outputs": [],
   "source": [
    "# getting indices where data + bg survive the filters\n",
    "cut_ind_dbg = []\n",
    "for mdm in mdms:\n",
    "    mdm_dbg = []\n",
    "    for file in [data_file] + bg:\n",
    "        mdm_dbg.append(filter_slep(file, mdm))\n",
    "    cut_ind_dbg.append(mdm_dbg)"
   ]
  },
  {
   "cell_type": "code",
   "execution_count": 28,
   "metadata": {},
   "outputs": [],
   "source": [
    "SCRATCHdesi = \"/global/cscratch1/sd/benjikan/desi/\""
   ]
  },
  {
   "cell_type": "code",
   "execution_count": 29,
   "metadata": {},
   "outputs": [],
   "source": [
    "np.save(SCRATCHdesi + \"cut_ind_dbg_whole_BK\", cut_ind_dbg)"
   ]
  },
  {
   "cell_type": "code",
   "execution_count": 30,
   "metadata": {},
   "outputs": [],
   "source": [
    "# getting indices where the mc datasets survive filters\n",
    "cut_ind_sets = []\n",
    "for i, file in enumerate(sets):\n",
    "    cut_ind_sets.append(filter_slep(file, mdms[i]))"
   ]
  },
  {
   "cell_type": "code",
   "execution_count": 31,
   "metadata": {},
   "outputs": [],
   "source": [
    "# getting full sizes of data and background datasets\n",
    "sizes_databg = []\n",
    "for file in [data_file] + bg:\n",
    "    met = extract_branch(file, 'met_et')#file[b'mini;1'].array(b'met_et')\n",
    "    sizes_databg.append(len(met))"
   ]
  },
  {
   "cell_type": "code",
   "execution_count": 32,
   "metadata": {},
   "outputs": [
    {
     "name": "stdout",
     "output_type": "stream",
     "text": [
      "[664613, 1381845, 1306670, 3389180, 2834261]\n"
     ]
    }
   ],
   "source": [
    "print(sizes_databg)"
   ]
  },
  {
   "cell_type": "code",
   "execution_count": 33,
   "metadata": {},
   "outputs": [
    {
     "data": {
      "text/plain": [
       "0.10532445197430686"
      ]
     },
     "execution_count": 33,
     "metadata": {},
     "output_type": "execute_result"
    }
   ],
   "source": [
    "70000/664613"
   ]
  },
  {
   "cell_type": "code",
   "execution_count": 65,
   "metadata": {},
   "outputs": [],
   "source": [
    "# getting indices that are random samples for data + bg for each mdm\n",
    "rand_samp_databg = []\n",
    "for j, mdm in enumerate(mdms):\n",
    "    mdm_samp = []\n",
    "    for i, file in enumerate([data_file] + bg):\n",
    "        if j==0 or j==1:\n",
    "            mdm_samp.append(random.sample(range(0, sizes_databg[i]), 70000))\n",
    "        else:\n",
    "            mdm_samp.append(random.sample(range(0, sizes_databg[i]), 200000))        \n",
    "        \n",
    "#         if j==0:\n",
    "#             mdm_samp.append(random.sample(range(0, sizes_databg[i]), int(.015*sizes_databg[i]))) # take 1.5% of events, ~10k data events\n",
    "#         if j==1:\n",
    "#             mdm_samp.append(random.sample(range(0, sizes_databg[i]), int(.03*sizes_databg[i]))) # take 3% of events, ~20k data events\n",
    "#         else:\n",
    "#             mdm_samp.append(random.sample(range(0, sizes_databg[i]), int(.15*sizes_databg[i]))) # take 15% of events, ~100k data events\n",
    "\n",
    "#         if j <=1: #10000 for 1st, 20000 for 2nd, 100000 for 3rd\n",
    "#             mdm_samp.append(random.sample(range(0, sizes_databg[i]), 10000*(j+1)))\n",
    "#         else:\n",
    "#             mdm_samp.append(random.sample(range(0, sizes_databg[i]), 100000))\n",
    "    rand_samp_databg.append(mdm_samp)"
   ]
  },
  {
   "cell_type": "code",
   "execution_count": 66,
   "metadata": {},
   "outputs": [],
   "source": [
    "cut_ind_dbg = np.array(cut_ind_dbg)\n",
    "cut_ind_sets = np.array(cut_ind_sets)\n",
    "rand_samp_databg = np.array(rand_samp_databg)"
   ]
  },
  {
   "cell_type": "code",
   "execution_count": 67,
   "metadata": {},
   "outputs": [],
   "source": [
    "# intersecting indices that passed filters with random sample indices\n",
    "fin_ind_dbg = []\n",
    "for i in range(len(cut_ind_dbg)):\n",
    "    mdm_ind = []\n",
    "    for j in range(len(cut_ind_dbg[0])):\n",
    "        mdm_ind.append(np.intersect1d(cut_ind_dbg[i][j], rand_samp_databg[i][j]))\n",
    "    fin_ind_dbg.append(mdm_ind)"
   ]
  },
  {
   "cell_type": "code",
   "execution_count": 68,
   "metadata": {},
   "outputs": [],
   "source": [
    "fin_ind_dbg = np.array(fin_ind_dbg)"
   ]
  },
  {
   "cell_type": "code",
   "execution_count": 69,
   "metadata": {},
   "outputs": [],
   "source": [
    "np.save(SCRATCHdesi+\"fin_ind_dbg_whole_BK\", fin_ind_dbg)"
   ]
  },
  {
   "cell_type": "code",
   "execution_count": 83,
   "metadata": {
    "collapsed": true,
    "jupyter": {
     "outputs_hidden": true
    }
   },
   "outputs": [
    {
     "name": "stdout",
     "output_type": "stream",
     "text": [
      "[    30     56    174 ... 664274 664512 664609]\n",
      "[[ 33144.9    21067.385]\n",
      " [ 42871.246  37205.387]\n",
      " [ 33070.188  29222.084]\n",
      " ...\n",
      " [ 39147.01   38326.816]\n",
      " [ 27601.549  13892.836]\n",
      " [108435.18   91717.31 ]]\n",
      "[[42287.117 27343.342]\n",
      " [53704.32  39473.5  ]\n",
      " [47856.98  43398.01 ]\n",
      " ...\n",
      " [37704.133 37170.074]\n",
      " [47667.63  46014.797]\n",
      " [47599.27  44566.27 ]]\n"
     ]
    }
   ],
   "source": [
    "print(fin_ind_dbg[0][0])\n",
    "print(extract_branch(data_file, 'lep_pt'))\n",
    "print(np.take(extract_branch(data_file, 'lep_pt'), fin_ind_dbg[0][0], axis=0))"
   ]
  },
  {
   "cell_type": "code",
   "execution_count": 70,
   "metadata": {},
   "outputs": [
    {
     "name": "stdout",
     "output_type": "stream",
     "text": [
      "00\n",
      "(20, 10)\n",
      "01\n",
      "(3, 10)\n",
      "02\n",
      "(1, 10)\n",
      "03\n",
      "(434, 10)\n",
      "04\n",
      "(48, 10)\n",
      "10\n",
      "(3, 10)\n",
      "11\n",
      "(1, 10)\n",
      "12\n",
      "(0,)\n",
      "13\n",
      "(41, 10)\n",
      "14\n",
      "(0,)\n",
      "20\n",
      "(10, 10)\n",
      "21\n",
      "(0,)\n",
      "22\n",
      "(0,)\n",
      "23\n",
      "(22, 10)\n",
      "24\n",
      "(0,)\n"
     ]
    }
   ],
   "source": [
    "# calculating mt2 for these indices\n",
    "mt2_dbg = []\n",
    "for i in range(len(fin_ind_dbg)):\n",
    "    mt2_mdm = []\n",
    "    for j, file in enumerate([data_file] + bg):\n",
    "        print(f'{i}{j}')\n",
    "        mt2_mdm.append(mt2(file, mdms[i], fin_ind_dbg[i][j]))\n",
    "    mt2_dbg.append(mt2_mdm)"
   ]
  },
  {
   "cell_type": "code",
   "execution_count": 71,
   "metadata": {},
   "outputs": [],
   "source": [
    "np.save(SCRATCHdesi + \"mt2_dbg_BK2\", mt2_dbg)"
   ]
  },
  {
   "cell_type": "markdown",
   "metadata": {},
   "source": [
    "For all data sets, I will make the cuts that the lepton type should be either two muons or two electrons and the sum of the lepton charge should be -1."
   ]
  },
  {
   "cell_type": "code",
   "execution_count": 72,
   "metadata": {},
   "outputs": [],
   "source": [
    "weights = [\"scaleFactor_MUON\", \"scaleFactor_ELE\", \"scaleFactor_PILEUP\", \"scaleFactor_LepTRIGGER\", \"mcWeight\"]"
   ]
  },
  {
   "cell_type": "markdown",
   "metadata": {},
   "source": [
    "We want to rescale MC by $\\frac{\\text{sample data size}}{\\text{data size}}\\frac{\\text{mc size}}{\\text{sample mc size}}$. Here, the sample data and sample mc are the same size, so we rescale by mc size/data size."
   ]
  },
  {
   "cell_type": "code",
   "execution_count": 73,
   "metadata": {},
   "outputs": [],
   "source": [
    "# weighting\n",
    "sets_bg_weights = []\n",
    "for i, file in enumerate(sets + bg):\n",
    "    e_weight = 1\n",
    "    N = get_N(file)\n",
    "    for weight in weights:\n",
    "        e_weight = e_weight*extract_branch(file, weight)\n",
    "    #sets_bg_weights.append(e_weight)\n",
    "    if i<=2: \n",
    "        sets_bg_weights.append(e_weight * N * len(rand_samp_databg[i][0])/sizes_databg[0]) # for mc sims, normalize by rescale size\n",
    "    else:\n",
    "        sets_bg_weights.append(e_weight * N * sizes_databg[i-2]/sizes_databg[0]) # for nonsets, normalize by rescale size\n",
    "#     if i <= 2:\n",
    "#         sets_bg_weights.append(multiply(e_weight, N))\n",
    "#     else:\n",
    "#         sets_bg_weights.append(10*(sizes_databg[i-2]/sizes_databg[0])*multiply(e_weight, N))\n",
    "\n",
    "    #else:\n",
    "        #sets_bg_weights.append(multiply(e_weight, N))"
   ]
  },
  {
   "cell_type": "markdown",
   "metadata": {},
   "source": [
    "### With selections"
   ]
  },
  {
   "cell_type": "code",
   "execution_count": 74,
   "metadata": {},
   "outputs": [
    {
     "data": {
      "text/plain": [
       "<matplotlib.lines.Line2D at 0x2aac092238d0>"
      ]
     },
     "execution_count": 74,
     "metadata": {},
     "output_type": "execute_result"
    },
    {
     "data": {
      "image/png": "[encoded data removed]",
      "text/plain": [
       "<Figure size 504x360 with 1 Axes>"
      ]
     },
     "metadata": {
      "needs_background": "light"
     },
     "output_type": "display_data"
    }
   ],
   "source": [
    "make_fig(\"MT2 (GeV)\", \"Number of events\")\n",
    "title(\"MT2 for Ml 500 Gev MDM 100 GeV\")\n",
    "nbins   = 50 # number of bins in histogram\n",
    "xlow    = 1\n",
    "xhigh   = 700\n",
    "bins    = np.linspace(xlow, xhigh, nbins)\n",
    "n, bins, patches = plt.hist(np.take(np.array(mt2_sets[0])/1e3, cut_ind_sets[0]), bins, alpha = 0.7)\n",
    "axvline(np.sqrt(500**2-(mdms[0]/1e3)**2), linestyle = \"--\")\n"
   ]
  },
  {
   "cell_type": "code",
   "execution_count": 75,
   "metadata": {},
   "outputs": [
    {
     "data": {
      "text/plain": [
       "<matplotlib.lines.Line2D at 0x2aab9830afd0>"
      ]
     },
     "execution_count": 75,
     "metadata": {},
     "output_type": "execute_result"
    },
    {
     "data": {
      "image/png": "[encoded data removed]",
      "text/plain": [
       "<Figure size 504x360 with 1 Axes>"
      ]
     },
     "metadata": {
      "needs_background": "light"
     },
     "output_type": "display_data"
    }
   ],
   "source": [
    "make_fig(\"MT2 (GeV)\", \"Number of events\")\n",
    "title(\"MT2 for Ml 300 Gev MDM 200 GeV\")\n",
    "nbins   = 50 # number of bins in histogram\n",
    "xlow    = 1\n",
    "xhigh   = 500\n",
    "bins    = np.linspace(xlow, xhigh, nbins)\n",
    "n, bins, patches = plt.hist(np.take(np.array(mt2_sets[1])/1e3, cut_ind_sets[1]), bins, alpha = 0.7)\n",
    "axvline(np.sqrt(300**2-(mdms[1]/1e3)**2), linestyle = \"--\")\n"
   ]
  },
  {
   "cell_type": "code",
   "execution_count": 76,
   "metadata": {},
   "outputs": [
    {
     "data": {
      "text/plain": [
       "<matplotlib.lines.Line2D at 0x2aab8d51f350>"
      ]
     },
     "execution_count": 76,
     "metadata": {},
     "output_type": "execute_result"
    },
    {
     "data": {
      "image/png": "[encoded data removed]",
      "text/plain": [
       "<Figure size 504x360 with 1 Axes>"
      ]
     },
     "metadata": {
      "needs_background": "light"
     },
     "output_type": "display_data"
    }
   ],
   "source": [
    "make_fig(\"MT2 (GeV)\", \"Number of events\")\n",
    "title(\"MT2 for Ml 400 Gev MDM 300 GeV\")\n",
    "nbins   = 50 # number of bins in histogram\n",
    "xlow    = 1\n",
    "xhigh   = 700\n",
    "bins    = np.linspace(xlow, xhigh, nbins)\n",
    "n, bins, patches = plt.hist(np.take(np.array(mt2_sets[2])/1e3, cut_ind_sets[2]), bins, alpha = 0.7)\n",
    "axvline(np.sqrt(400**2-(mdms[2]/1e3)**2), linestyle = \"--\")\n",
    "#legend([\"Ml 500 Gev MDM 100 Gev\", \"Ml 300 Gev MDM 200 Gev\", \"Ml 400 Gev MDM 300 Gev\"])\n"
   ]
  },
  {
   "cell_type": "code",
   "execution_count": 77,
   "metadata": {},
   "outputs": [
    {
     "data": {
      "image/png": "[encoded data removed]",
      "text/plain": [
       "<Figure size 504x360 with 1 Axes>"
      ]
     },
     "metadata": {
      "needs_background": "light"
     },
     "output_type": "display_data"
    }
   ],
   "source": [
    "make_fig(\"\", \"Number of events\")\n",
    "title(\"MT2 for Ml 500 Gev MDM 100 GeV\")\n",
    "nbins   = 50 # number of bins in histogram\n",
    "xlow    = 0\n",
    "xhigh   = 10\n",
    "bins    = np.linspace(xlow, xhigh, nbins)\n",
    "n, bins, patches = plt.hist([sum(lp) for lp in extract_branch(sets[0], 'tau_n')], bins, alpha = 0.7)"
   ]
  },
  {
   "cell_type": "code",
   "execution_count": 647,
   "metadata": {},
   "outputs": [
    {
     "data": {
      "text/plain": [
       "array([1, 1, 0, ..., 0, 0, 1], dtype=uint32)"
      ]
     },
     "execution_count": 647,
     "metadata": {},
     "output_type": "execute_result"
    }
   ],
   "source": [
    "sets[0][b'mini;1'].array(b'jet_n')"
   ]
  },
  {
   "cell_type": "markdown",
   "metadata": {},
   "source": [
    "## ML 500 GeV, MDM 100 GeV"
   ]
  },
  {
   "cell_type": "code",
   "execution_count": 78,
   "metadata": {},
   "outputs": [],
   "source": [
    "# getting mt2 values for the mc datasets with appropriately filtered indices\n",
    "mt2_sets_ind = []\n",
    "for i, mt2i in enumerate(mt2_sets):\n",
    "    mt2_sets_ind.append(np.take(mt2i, cut_ind_sets[i]))"
   ]
  },
  {
   "cell_type": "code",
   "execution_count": 79,
   "metadata": {},
   "outputs": [],
   "source": [
    "# getting mc dataset weights with appropriate indices\n",
    "sets_weights_ind = []\n",
    "for i in range(len(sets)):\n",
    "    sets_weights_ind.append(np.take(sets_bg_weights[i], cut_ind_sets[i]))"
   ]
  },
  {
   "cell_type": "code",
   "execution_count": 80,
   "metadata": {},
   "outputs": [
    {
     "name": "stdout",
     "output_type": "stream",
     "text": [
      "4\n"
     ]
    }
   ],
   "source": [
    "print(len(bg))"
   ]
  },
  {
   "cell_type": "code",
   "execution_count": 81,
   "metadata": {},
   "outputs": [],
   "source": [
    "# getting bg weights with appropriate indices\n",
    "bg_weights_ind = []\n",
    "for i in range(len(mdms)):\n",
    "    mdm_bg_weight = []\n",
    "    for j in range(len(bg)):\n",
    "        mdm_bg_weight.append(np.take(sets_bg_weights[j+3], fin_ind_dbg[i][j+1]))\n",
    "    bg_weights_ind.append(mdm_bg_weight)"
   ]
  },
  {
   "cell_type": "code",
   "execution_count": 82,
   "metadata": {},
   "outputs": [],
   "source": [
    "# mt2 combined background\n",
    "mt2_bg_comb = [np.concatenate(mt2_dbg[i][1:]) for i in range(len(mt2_dbg))]"
   ]
  },
  {
   "cell_type": "code",
   "execution_count": 83,
   "metadata": {},
   "outputs": [],
   "source": [
    "#combined background weights\n",
    "bg_weights_comb = [np.concatenate(bg_weights_ind[i]) for i in range(len(bg_weights_ind))]"
   ]
  },
  {
   "cell_type": "code",
   "execution_count": 84,
   "metadata": {},
   "outputs": [],
   "source": [
    "nbins   = 50 # number of bins in histogram\n",
    "xlow    = 50#e3\n",
    "xhigh   = 600#e3\n",
    "bins    = np.linspace(xlow, xhigh, nbins)\n",
    "\n",
    "counts, bin_edges = np.histogram(mt2_dbg[0][0]/1e3, bins)\n",
    "bin_centers = (bin_edges[:-1] + bin_edges[1:])/2.\n",
    "err = np.sqrt(counts)\n",
    "counts = counts"
   ]
  },
  {
   "cell_type": "code",
   "execution_count": 85,
   "metadata": {},
   "outputs": [],
   "source": [
    "f1 = 1 # already weighted #(1e4)/sizes_databg[0]"
   ]
  },
  {
   "cell_type": "code",
   "execution_count": 86,
   "metadata": {
    "collapsed": true,
    "jupyter": {
     "outputs_hidden": true
    }
   },
   "outputs": [
    {
     "name": "stdout",
     "output_type": "stream",
     "text": [
      "[array([108540.08732492,  69572.41823706, 124368.95119969, 185899.51309411,\n",
      "       114625.40166267,  81703.15879153, 115920.83443869, 113292.85730309,\n",
      "       121894.19686865, 129821.54730393, 109033.94315537,  82658.60595903,\n",
      "       137616.56636092, 119457.24136236, 142997.5033384 ,  71131.82070737,\n",
      "       110823.26002327,  92396.72314785, 136043.12717259, 114549.08496924]), array([121174.71405011,  97053.50205402,  81780.7167656 ]), array([186054.58059689]), array([118127.97336406, 124968.850327  , 135125.15955172, 129612.82207462,\n",
      "       124050.57907503, 107513.70072149, 106643.8475934 ,  94046.75747056,\n",
      "       150225.08456794, 137566.99026392, 159061.6926942 ,  93455.21067353,\n",
      "       147261.02307696, 122350.7535265 , 165547.09268876, 109813.08840011,\n",
      "       186376.64383717, 164032.65617961, 124083.56144477, 116566.80676719,\n",
      "       151937.69615259, 109172.55726257,  81052.80607864,  74008.94268207,\n",
      "        97358.09570806, 122951.27592055, 120164.2702394 ,  98743.0914434 ,\n",
      "       130373.48438312, 119428.5538012 , 144731.96620743, 118148.35225783,\n",
      "       103658.34327459, 119069.8859643 ,  66559.58202268,  65620.20973738,\n",
      "       237992.98232095, 457354.77577753, 142882.35821251, 117012.41240591,\n",
      "       125501.48824588,  74686.17739811, 117911.01956372, 152415.42627841,\n",
      "       104314.63543481, 121873.76889326, 127014.11228063,  83191.7014406 ,\n",
      "       198642.70743817, 163943.72675052, 102752.34527745, 140671.95367185,\n",
      "       129610.60093583, 118462.73613583, 119219.43207036,  70499.32397418,\n",
      "       130883.0152192 , 149315.90401218, 147091.00779671, 104357.17335387,\n",
      "       120351.65702188, 166164.35188549, 164296.39571845,  93373.18399413,\n",
      "       136370.30147073, 123207.97659317, 120159.33340807, 147231.15315101,\n",
      "       141327.85250945,  87067.12701714,  95101.44574636, 171829.11233954,\n",
      "       118027.0419826 , 147519.2724075 , 129639.69878145, 109398.82459843,\n",
      "       183053.06621073, 123396.45276732,  93871.07042355, 106879.97387481,\n",
      "       110821.15094245, 118279.03349548, 129338.30671293, 124255.90863806,\n",
      "       107191.7434768 , 146945.54417573,  68564.26295396,  84761.10987293,\n",
      "       138090.69774014, 150770.96434634, 128199.69225893,  99490.55678989,\n",
      "       146636.14699159, 212337.42690757, 149661.45731254, 134651.21942958,\n",
      "       118387.31947399, 129050.38310479, 225018.7388071 , 128182.44953722,\n",
      "       120258.16834716, 110239.87057079, 131873.61263215, 129394.10433857,\n",
      "       118796.7787859 , 130481.16814067, 121982.29140868, 158062.59378677,\n",
      "       182110.27714811, 137249.70580835,  96903.86015132,  80816.76315822,\n",
      "        88369.77294092, 139503.92783699, 104453.23468384, 101010.8535644 ,\n",
      "       110771.60316711, 114398.66832925, 110992.89700798,  97389.65626374,\n",
      "       147067.60596848,  94356.7420761 ,  99233.15683327, 115906.44555023,\n",
      "       196565.34907106, 150316.67640867, 103540.96662823, 123823.07191709,\n",
      "       218942.38398876, 102143.67873578, 118759.47421925,  81918.86457647,\n",
      "       127526.28271236, 119615.24568937, 140970.24190078,  79832.259208  ,\n",
      "       161624.09823546, 125888.55767855, 113718.12617428, 136455.14145186,\n",
      "       340172.5797015 , 113414.24843491, 106736.48165714, 151574.87778744,\n",
      "       109715.85798763, 149378.02691532, 107734.3210414 , 100517.2215467 ,\n",
      "       134291.85492797, 107134.57787994, 133353.2932657 , 113128.80614784,\n",
      "       121361.52094607,  92129.31059537,  84837.2951802 , 120299.40138676,\n",
      "       123765.96533862, 121552.47068442, 103926.18159416, 115036.84901501,\n",
      "       149372.66294773, 139446.0797164 , 107523.34378954, 117906.29819504,\n",
      "       140668.60484852, 127333.54460721, 115321.11096843,  74773.64469251,\n",
      "       129847.34878796, 158240.03726265,  67639.69373754, 237425.27132209,\n",
      "        93614.74027167, 129144.89621193, 102924.74795965, 132605.58135755,\n",
      "       118258.90416897,  73670.21640427, 136222.86314826, 157153.02250965,\n",
      "       114618.99241741, 107635.45151951, 126461.85198247, 128578.34350392,\n",
      "       260031.69971379, 144036.10741693,  67831.93604525, 118266.09609303,\n",
      "        86008.60842612, 117632.76226762, 122221.82081965, 140631.98211096,\n",
      "       110020.753689  , 194841.75222492, 115524.91734917,  59197.17235258,\n",
      "       109855.94940621,  72949.93579761, 105826.75874743, 138748.82542776,\n",
      "       142956.18751168, 174084.68714869,  95573.43389471, 154641.63577965,\n",
      "       104817.774798  , 123444.87119675, 111956.23286846, 155756.90371776,\n",
      "       132749.97170198, 119325.0416162 ,  94908.40046718, 132221.86947861,\n",
      "        88089.54924967, 124594.22381499,  96025.07063786,  78985.02408823,\n",
      "        92362.02970372,  64100.16414162, 102734.33313589, 141631.09598617,\n",
      "        86814.77852069, 186808.09319054, 121613.49215855, 108157.80410662,\n",
      "       157048.97198013, 174837.77315421, 104538.10058548, 140626.17398405,\n",
      "       135344.50749467, 124309.51651644, 136800.78243259, 137994.92665062,\n",
      "       113417.73695378, 137777.1371475 , 112962.92108858,  70439.70477892,\n",
      "       102484.30349428, 121722.33929764,  98753.14369806,  80911.34183555,\n",
      "        76330.85144851, 310952.61059497, 115459.72789482, 158221.03483608,\n",
      "       146879.81535149, 113775.64407637, 150223.71527503, 157059.2781425 ,\n",
      "       103848.21552122, 171413.83887757, 128449.30423728,  99515.47397118,\n",
      "       107950.64305769, 147407.98762465, 101100.34417697, 115256.30836235,\n",
      "       120463.95395514, 116439.29884158, 218051.79662211, 202592.56482435,\n",
      "       205597.37546798, 143093.20215992, 126148.07750468,  54776.57687203,\n",
      "       113118.00108938, 135601.90890503, 113206.0483325 , 144651.74497412,\n",
      "       120645.47105921, 114833.04579204,  53317.13265306, 129144.29471142,\n",
      "       101273.6157409 ,  85479.76799747,  80758.30783909, 140766.09810978,\n",
      "       148859.69902088,  96278.60415794, 134605.23505487, 116860.4333342 ,\n",
      "       116106.03031839, 124268.57979189, 129322.10746979, 108278.61054   ,\n",
      "       110259.62159757,  85212.50458677, 223576.51639843, 107397.01262815,\n",
      "       108126.35484319, 125901.86277271, 120158.43889035, 107800.5809674 ,\n",
      "        65367.72253665, 119018.88603815,  83114.99723535, 108003.98447323,\n",
      "       152257.41059177, 157389.48835982, 236224.0308813 ,  85347.51401228,\n",
      "        65644.92131136, 150505.37555903, 123604.9905922 , 127385.01993676,\n",
      "       111855.93440719, 114529.51186175, 116771.46975177, 179038.97250142,\n",
      "       130195.0858065 , 126238.62873861, 104736.67635312, 110179.32098677,\n",
      "       105796.16369429, 138918.90239549, 110391.4514325 , 114575.33572753,\n",
      "       113649.50300482, 119187.41102359,  98018.54836123, 187070.91295524,\n",
      "       112926.92871216, 116063.0803306 ,  86901.77934731,  86324.40713966,\n",
      "       111799.66979401, 113040.39455765, 121201.32579987, 128814.24523199,\n",
      "       117546.33904616,  59478.37901364, 110327.32349464,  85173.04217841,\n",
      "       262389.98088989, 107733.73486651, 266850.51415648, 109369.68158952,\n",
      "       163590.35649123, 115469.43950937, 102403.72996674, 135420.4021951 ,\n",
      "       112643.9910281 , 163139.85046659, 170628.16779267, 140167.93521804,\n",
      "       118986.12223709, 131606.10162237, 122655.96594374, 106909.97854353,\n",
      "        97333.88610951, 109161.35893794, 104206.4317928 , 139655.63772084,\n",
      "        90334.78118691, 133156.11334613, 143020.88803123, 233260.11366862,\n",
      "       128745.31290188, 129418.68143521,  97941.64775033, 121727.33211133,\n",
      "       130285.08008647, 113399.3467342 , 129197.92482926,  92035.9939994 ,\n",
      "       119676.98988194, 146815.54944154, 145968.52229078,  96432.02604058,\n",
      "       159228.41823485, 114773.28169852, 443899.09325631,  97237.13071671,\n",
      "       114571.80996161, 126719.50568066, 129333.24893607, 137447.25395512,\n",
      "       267152.19933478, 159845.08833866, 106671.21816624, 113635.76691526,\n",
      "       117088.53770711, 108364.21273289, 150161.38445039, 125965.4700302 ,\n",
      "       111300.16344339, 116688.96545646,  98180.24842109,  96054.53079221,\n",
      "       125923.91377038, 180531.7954349 , 113216.76171368,  84460.43792134,\n",
      "       122438.05840997, 137671.02517765, 118342.27870356, 107439.6197972 ,\n",
      "       112200.38708062, 193499.4353995 , 164382.40128044, 150442.03413457,\n",
      "       121734.53173886, 138706.51059783, 187374.91565495, 112394.94128193,\n",
      "        86829.72248186, 152911.03121358, 132221.32818376, 124932.46058701,\n",
      "       117787.65896527,  71242.3940189 , 103777.18463079,  87025.40224109,\n",
      "       397742.67443204, 138876.97478027,  88952.57976228, 128868.71362241,\n",
      "       152061.92771528, 122585.07826233, 127391.40681126, 120198.036617  ,\n",
      "       125183.65477075, 109297.76810993, 119866.97535074, 109619.14469442,\n",
      "        85451.62775579, 113349.26470436, 111473.26773388, 109547.31737107,\n",
      "       111691.05949109, 177225.60120593, 121546.21859536, 157214.67719377,\n",
      "       206832.22789416, 148527.04355047]), array([ 53025.41757748,  86186.6617091 ,  88493.8182369 ,  83805.463698  ,\n",
      "       128838.28530133, 106569.30368609, 142865.59421502,  96652.12850337,\n",
      "       103091.1495845 , 102406.05969845,  89015.74493878, 121981.00105124,\n",
      "       109441.28200598, 115037.39175855, 106909.37778815, 116452.48632162,\n",
      "       133859.12204572,  85518.6817295 , 147820.133171  , 108981.54716274,\n",
      "       108145.01898367,  96080.33527405,  80735.42258929, 108803.68179108,\n",
      "        91173.536293  , 115536.17426566,  88069.47760827, 116058.02928865,\n",
      "       110261.59983584, 116094.39486104, 136571.48531025, 121149.56370241,\n",
      "        76934.61007195,  90460.88667962, 119270.17345429,  67640.60495759,\n",
      "       168436.69444654,  97010.28761106,  48941.32767531, 109988.37967423,\n",
      "        60871.3896949 , 110438.19058712,  81438.65969043, 130575.2479211 ,\n",
      "       101952.86113398, 110220.44539657,  82237.53908254,  79812.60489368])]\n"
     ]
    }
   ],
   "source": [
    "print(mt2_dbg[0])"
   ]
  },
  {
   "cell_type": "code",
   "execution_count": 133,
   "metadata": {
    "collapsed": true,
    "jupyter": {
     "outputs_hidden": true
    }
   },
   "outputs": [
    {
     "name": "stdout",
     "output_type": "stream",
     "text": [
      "[array([-0.00035843, -0.0001819 ,  0.00027823, ...,  0.00017517,\n",
      "        0.00021634,  0.00018329], dtype=float32), array([ 0.00052918,  0.00029967,  0.00029074, ..., -0.00057587,\n",
      "        0.00029722, -0.00025396], dtype=float32), array([-0.00133886,  0.        ,  0.00186015, ...,  0.00021961,\n",
      "        0.00074305,  0.00200394], dtype=float32), array([4.9689254e-03, 3.3105854e-03, 5.5647166e-03, 2.8099886e-03,\n",
      "       5.4832445e-03, 3.6658549e-03, 5.6123366e-03, 6.6991681e-03,\n",
      "       4.2423084e-03, 1.2759004e-05, 3.0369267e-03, 5.4401243e-03,\n",
      "       4.1749398e-03, 4.1085030e-03, 5.4458766e-03, 2.9740904e-03,\n",
      "       4.1014720e-03, 3.7850710e-03, 5.3518955e-03, 5.3966283e-03,\n",
      "       2.3626194e-03, 0.0000000e+00, 5.4325224e-03, 5.5606207e-03,\n",
      "       3.0329896e-03, 2.4038265e-03, 5.8372165e-03, 5.5888961e-03,\n",
      "       7.7271531e-03, 5.0015566e-03, 2.7381021e-03, 4.6982537e-03,\n",
      "       6.8336725e-03, 5.5721551e-03, 3.0973770e-03, 7.4392073e-03,\n",
      "       2.7218424e-03, 1.5451934e-03, 1.6820418e-03, 2.3172372e-03,\n",
      "       3.8484822e-03, 4.5904745e-03, 2.3587481e-03, 3.1676786e-03,\n",
      "       2.5847491e-03, 1.4875453e-03, 4.8313695e-03, 5.9823440e-03,\n",
      "       5.2569397e-03, 5.5819084e-03, 5.5652093e-03, 5.1482762e-03,\n",
      "       5.7397992e-03, 2.6724266e-03, 5.4061571e-03, 2.7588014e-03,\n",
      "       5.3371983e-03, 3.8722546e-03, 4.2930706e-03, 5.0401557e-03,\n",
      "       2.4043231e-03, 5.2930517e-03, 2.3566172e-03, 6.0488088e-03,\n",
      "       5.1266691e-03, 5.6847492e-03, 3.8262724e-03, 5.5281646e-03,\n",
      "       2.5145377e-03, 0.0000000e+00], dtype=float32)]\n"
     ]
    },
    {
     "data": {
      "text/plain": [
       "[array([-0.00035843, -0.0001819 ,  0.00027823, ...,  0.00017517,\n",
       "         0.00021634,  0.00018329], dtype=float32),\n",
       " array([ 0.00052918,  0.00029967,  0.00029074, ..., -0.00057587,\n",
       "         0.00029722, -0.00025396], dtype=float32),\n",
       " array([-0.00133886,  0.        ,  0.00186015, ...,  0.00021961,\n",
       "         0.00074305,  0.00200394], dtype=float32),\n",
       " array([4.9689254e-03, 3.3105854e-03, 5.5647166e-03, 2.8099886e-03,\n",
       "        5.4832445e-03, 3.6658549e-03, 5.6123366e-03, 6.6991681e-03,\n",
       "        4.2423084e-03, 1.2759004e-05, 3.0369267e-03, 5.4401243e-03,\n",
       "        4.1749398e-03, 4.1085030e-03, 5.4458766e-03, 2.9740904e-03,\n",
       "        4.1014720e-03, 3.7850710e-03, 5.3518955e-03, 5.3966283e-03,\n",
       "        2.3626194e-03, 0.0000000e+00, 5.4325224e-03, 5.5606207e-03,\n",
       "        3.0329896e-03, 2.4038265e-03, 5.8372165e-03, 5.5888961e-03,\n",
       "        7.7271531e-03, 5.0015566e-03, 2.7381021e-03, 4.6982537e-03,\n",
       "        6.8336725e-03, 5.5721551e-03, 3.0973770e-03, 7.4392073e-03,\n",
       "        2.7218424e-03, 1.5451934e-03, 1.6820418e-03, 2.3172372e-03,\n",
       "        3.8484822e-03, 4.5904745e-03, 2.3587481e-03, 3.1676786e-03,\n",
       "        2.5847491e-03, 1.4875453e-03, 4.8313695e-03, 5.9823440e-03,\n",
       "        5.2569397e-03, 5.5819084e-03, 5.5652093e-03, 5.1482762e-03,\n",
       "        5.7397992e-03, 2.6724266e-03, 5.4061571e-03, 2.7588014e-03,\n",
       "        5.3371983e-03, 3.8722546e-03, 4.2930706e-03, 5.0401557e-03,\n",
       "        2.4043231e-03, 5.2930517e-03, 2.3566172e-03, 6.0488088e-03,\n",
       "        5.1266691e-03, 5.6847492e-03, 3.8262724e-03, 5.5281646e-03,\n",
       "        2.5145377e-03, 0.0000000e+00], dtype=float32),\n",
       " array([3.0541454e-05, 3.6876379e-05, 4.4950531e-05, ..., 7.9741236e-05,\n",
       "        5.0709925e-05, 7.8725388e-05], dtype=float32)]"
      ]
     },
     "execution_count": 133,
     "metadata": {},
     "output_type": "execute_result"
    }
   ],
   "source": [
    "print(bg_weights_ind[0])\n",
    "bg_weights_ind[0] + [f1*sets_weights_ind[0].flatten()]"
   ]
  },
  {
   "cell_type": "code",
   "execution_count": 89,
   "metadata": {},
   "outputs": [
    {
     "data": {
      "text/plain": [
       "(50, 600)"
      ]
     },
     "execution_count": 89,
     "metadata": {},
     "output_type": "execute_result"
    },
    {
     "data": {
      "image/png": "[encoded data removed]",
      "text/plain": [
       "<Figure size 504x360 with 1 Axes>"
      ]
     },
     "metadata": {
      "needs_background": "light"
     },
     "output_type": "display_data"
    }
   ],
   "source": [
    "make_fig(\"MT2 (GeV)\", \"Number of Events\")\n",
    "title(\"(500 GeV, 100 GeV)\")\n",
    "#n, bins, patches = plt.hist(mt2_dbg[0][1:] + mt2_ebg[0] + [mt2_sets_ind[0]], \\\n",
    "                #bins, stacked = True, weights = bg_weights_ind[0] \\\n",
    "                #+ [f1*ewi for ewi in ebg_weights_ind[0]] + [f1*sets_weights_ind[0]])\n",
    "n, bins, patches = plt.hist(np.array(mt2_dbg[0][1:] + [mt2_sets_ind[0]])/1e3, \\\n",
    "                bins, stacked = True, weights = bg_weights_ind[0] + [f1*sets_weights_ind[0].flatten()])\n",
    "errorbar(bin_centers, counts, yerr = err, capsize=3, fmt = 'o', c = 'black')\n",
    "ylim(bottom = 0)\n",
    "axvline(np.sqrt(500**2-(mdms[0]/1e3)**2), linestyle = \"--\")#axvline(np.sqrt(500e3**2-(mdms[0])**2), linestyle = \"--\")\n",
    "legend([\"MT2 limit\", \"ZZ\", \"WZ\", \"diboson\", \"tt\", \"MC data\", \"real data\"])\n",
    "xlim(50, 600)#xlim(50e3, 600e3)\n",
    "#savefig(\"mdm0plt_1.svg\")"
   ]
  },
  {
   "cell_type": "code",
   "execution_count": null,
   "metadata": {},
   "outputs": [],
   "source": [
    "#legend([\"Ml 500 Gev MDM 100 Gev\", \"Ml 300 Gev MDM 200 Gev\", \"Ml 400 Gev MDM 300 Gev\"])"
   ]
  },
  {
   "cell_type": "code",
   "execution_count": 100,
   "metadata": {},
   "outputs": [],
   "source": [
    "counts_b, bin_edges_b = np.histogram(mt2_bg_comb[0]/1e3, bins, weights = bg_weights_comb[0])"
   ]
  },
  {
   "cell_type": "code",
   "execution_count": 109,
   "metadata": {},
   "outputs": [
    {
     "name": "stderr",
     "output_type": "stream",
     "text": [
      "/usr/common/software/python/3.7-anaconda-2019.10/lib/python3.7/site-packages/ipykernel_launcher.py:2: RuntimeWarning: invalid value encountered in true_divide\n",
      "  \n"
     ]
    },
    {
     "data": {
      "text/plain": [
       "array([ 0.        ,  1.30874898,  0.60409692,  0.24948972,  0.        ,\n",
       "        0.22336603,  0.56704245,  0.29949375,  0.35006318,  0.        ,\n",
       "        0.        , -0.        ,  1.57212135,  0.        , -0.        ,\n",
       "        0.        ,  0.        ,         nan,  0.        , -0.        ,\n",
       "               nan,         nan,         nan,  0.        ,         nan,\n",
       "       -0.        ,         nan,         nan,         nan,         nan,\n",
       "       -0.        ,         nan,         nan,         nan,         nan,\n",
       "       -0.        ,  0.        ,         nan,         nan,         nan,\n",
       "               nan,         nan,         nan,         nan,         nan,\n",
       "               nan,         nan,         nan,         nan])"
      ]
     },
     "execution_count": 109,
     "metadata": {},
     "output_type": "execute_result"
    }
   ],
   "source": [
    "bin_centers_b = (bin_edges_b[:-1] + bin_edges_b[1:])/2.\n",
    "err_r = np.sqrt(counts)/counts_b\n",
    "err_r"
   ]
  },
  {
   "cell_type": "code",
   "execution_count": 110,
   "metadata": {},
   "outputs": [
    {
     "name": "stderr",
     "output_type": "stream",
     "text": [
      "/usr/common/software/python/3.7-anaconda-2019.10/lib/python3.7/site-packages/ipykernel_launcher.py:3: RuntimeWarning: invalid value encountered in true_divide\n",
      "  This is separate from the ipykernel package so we can avoid doing imports until\n"
     ]
    },
    {
     "data": {
      "text/plain": [
       "(50, 600)"
      ]
     },
     "execution_count": 110,
     "metadata": {},
     "output_type": "execute_result"
    },
    {
     "data": {
      "image/png": "[encoded data removed]",
      "text/plain": [
       "<Figure size 504x360 with 1 Axes>"
      ]
     },
     "metadata": {
      "needs_background": "light"
     },
     "output_type": "display_data"
    }
   ],
   "source": [
    "make_fig(\"MT2 (GeV)\", \"Ratio\")\n",
    "title(\"(500 GeV, 100 GeV)\")\n",
    "errorbar(bin_centers, counts/counts_b, yerr = err_r, fmt = 'o', c = \"black\")\n",
    "axhline(1, linestyle = \"--\", c = \"r\", label = \"1\")\n",
    "ylim(-1, 5)\n",
    "xlim(50, 600)\n",
    "#legend()\n",
    "#savefig(\"mdm0ratio_1.svg\")"
   ]
  },
  {
   "cell_type": "code",
   "execution_count": 111,
   "metadata": {},
   "outputs": [
    {
     "name": "stderr",
     "output_type": "stream",
     "text": [
      "/usr/common/software/python/3.7-anaconda-2019.10/lib/python3.7/site-packages/ipykernel_launcher.py:1: RuntimeWarning: invalid value encountered in true_divide\n",
      "  \"\"\"Entry point for launching an IPython kernel.\n"
     ]
    }
   ],
   "source": [
    "pvals = np.array(get_pval(counts/counts_b, err_r))"
   ]
  },
  {
   "cell_type": "code",
   "execution_count": 112,
   "metadata": {},
   "outputs": [
    {
     "name": "stderr",
     "output_type": "stream",
     "text": [
      "/usr/common/software/python/3.7-anaconda-2019.10/lib/python3.7/site-packages/ipykernel_launcher.py:1: RuntimeWarning: invalid value encountered in true_divide\n",
      "  \"\"\"Entry point for launching an IPython kernel.\n",
      "/usr/common/software/python/3.7-anaconda-2019.10/lib/python3.7/site-packages/ipykernel_launcher.py:1: RuntimeWarning: invalid value encountered in greater\n",
      "  \"\"\"Entry point for launching an IPython kernel.\n"
     ]
    }
   ],
   "source": [
    "ind_p = np.where((abs(counts/counts_b - 1)>err_r)*(counts != 0)*(counts_b != 0))"
   ]
  },
  {
   "cell_type": "code",
   "execution_count": 113,
   "metadata": {},
   "outputs": [
    {
     "name": "stderr",
     "output_type": "stream",
     "text": [
      "/usr/common/software/python/3.7-anaconda-2019.10/lib/python3.7/site-packages/ipykernel_launcher.py:1: RuntimeWarning: invalid value encountered in true_divide\n",
      "  \"\"\"Entry point for launching an IPython kernel.\n"
     ]
    },
    {
     "data": {
      "text/plain": [
       "array([0.24948972, 0.59097098, 0.51873839, 0.35006318])"
      ]
     },
     "execution_count": 113,
     "metadata": {},
     "output_type": "execute_result"
    }
   ],
   "source": [
    "(counts/counts_b)[ind_p]"
   ]
  },
  {
   "cell_type": "code",
   "execution_count": 114,
   "metadata": {},
   "outputs": [
    {
     "data": {
      "text/plain": [
       "array([0.00131408, 0.03353497, 0.05403628, 0.0316821 ])"
      ]
     },
     "execution_count": 114,
     "metadata": {},
     "output_type": "execute_result"
    }
   ],
   "source": [
    "pvals[ind_p]"
   ]
  },
  {
   "cell_type": "markdown",
   "metadata": {},
   "source": [
    "## ML 300 GeV, MDM 200 GeV"
   ]
  },
  {
   "cell_type": "code",
   "execution_count": null,
   "metadata": {},
   "outputs": [],
   "source": [
    "#legend([\"Ml 500 Gev MDM 100 Gev\", \"Ml 300 Gev MDM 200 Gev\", \"Ml 400 Gev MDM 300 Gev\"])\n"
   ]
  },
  {
   "cell_type": "code",
   "execution_count": 119,
   "metadata": {},
   "outputs": [],
   "source": [
    "nbins   = 50 # number of bins in histogram\n",
    "xlow    = 0#e3\n",
    "xhigh   = 1000#e3\n",
    "bins    = np.linspace(xlow, xhigh, nbins)\n",
    "\n",
    "counts, bin_edges = np.histogram(mt2_dbg[1][0]/1e3, bins)\n",
    "bin_centers = (bin_edges[:-1] + bin_edges[1:])/2.\n",
    "err = np.sqrt(counts)\n",
    "counts = counts"
   ]
  },
  {
   "cell_type": "code",
   "execution_count": 116,
   "metadata": {},
   "outputs": [],
   "source": [
    "f2 = 1#(2e4)/sizes_databg[0]"
   ]
  },
  {
   "cell_type": "code",
   "execution_count": 120,
   "metadata": {},
   "outputs": [
    {
     "data": {
      "text/plain": [
       "(0, 1000)"
      ]
     },
     "execution_count": 120,
     "metadata": {},
     "output_type": "execute_result"
    },
    {
     "data": {
      "image/png": "[encoded data removed]",
      "text/plain": [
       "<Figure size 504x360 with 1 Axes>"
      ]
     },
     "metadata": {
      "needs_background": "light"
     },
     "output_type": "display_data"
    }
   ],
   "source": [
    "make_fig(\"MT2 (MeV)\", \"Number of Events\")\n",
    "title(\"(300 GeV, 200 GeV)\")\n",
    "#n, bins, patches = plt.hist(mt2_dbg[1][1:] + mt2_ebg[1] + [mt2_sets_ind[1]], \\\n",
    "                #bins, stacked = True, weights = bg_weights_ind[1] \\\n",
    "                #+ [f2*ewi for ewi in ebg_weights_ind[1]] + [f2*sets_weights_ind[1]])\n",
    "n, bins, patches = plt.hist(np.array(mt2_dbg[1][1:] + [mt2_sets_ind[1]])/1e3, \\\n",
    "                bins, stacked = True, weights = bg_weights_ind[1] + [f2*sets_weights_ind[1]])\n",
    "errorbar(bin_centers, counts, yerr = err, fmt = 'o', c = 'black')\n",
    "ylim(bottom = 0)\n",
    "axvline(np.sqrt(300**2-(mdms[1]/1e3)**2), linestyle = \"--\")\n",
    "legend([\"MT2 limit\",\"ZZ\", \"WZ\", \"diboson\", \"tt\", \"MC data\", \"real data\"])\n",
    "xlim((0, 1000))\n",
    "#savefig(\"mdm1plt_1.svg\")"
   ]
  },
  {
   "cell_type": "code",
   "execution_count": 121,
   "metadata": {},
   "outputs": [
    {
     "name": "stderr",
     "output_type": "stream",
     "text": [
      "/usr/common/software/python/3.7-anaconda-2019.10/lib/python3.7/site-packages/ipykernel_launcher.py:3: RuntimeWarning: divide by zero encountered in true_divide\n",
      "  This is separate from the ipykernel package so we can avoid doing imports until\n",
      "/usr/common/software/python/3.7-anaconda-2019.10/lib/python3.7/site-packages/ipykernel_launcher.py:3: RuntimeWarning: invalid value encountered in true_divide\n",
      "  This is separate from the ipykernel package so we can avoid doing imports until\n"
     ]
    }
   ],
   "source": [
    "counts_b, bin_edges_b = np.histogram(mt2_bg_comb[1]/1e3, bins, weights = bg_weights_comb[1])\n",
    "bin_centers_b = (bin_edges_b[:-1] + bin_edges_b[1:])/2.\n",
    "err_r = np.sqrt(counts)/counts_b"
   ]
  },
  {
   "cell_type": "code",
   "execution_count": 123,
   "metadata": {},
   "outputs": [
    {
     "name": "stderr",
     "output_type": "stream",
     "text": [
      "/usr/common/software/python/3.7-anaconda-2019.10/lib/python3.7/site-packages/ipykernel_launcher.py:3: RuntimeWarning: divide by zero encountered in true_divide\n",
      "  This is separate from the ipykernel package so we can avoid doing imports until\n",
      "/usr/common/software/python/3.7-anaconda-2019.10/lib/python3.7/site-packages/ipykernel_launcher.py:3: RuntimeWarning: invalid value encountered in true_divide\n",
      "  This is separate from the ipykernel package so we can avoid doing imports until\n"
     ]
    },
    {
     "data": {
      "text/plain": [
       "<matplotlib.legend.Legend at 0x2aab9ca09190>"
      ]
     },
     "execution_count": 123,
     "metadata": {},
     "output_type": "execute_result"
    },
    {
     "data": {
      "image/png": "[encoded data removed]",
      "text/plain": [
       "<Figure size 504x360 with 1 Axes>"
      ]
     },
     "metadata": {
      "needs_background": "light"
     },
     "output_type": "display_data"
    }
   ],
   "source": [
    "make_fig(\"MT2 (MeV)\", \"Ratio\")\n",
    "title(\"(300 GeV, 200 GeV)\")\n",
    "errorbar(bin_centers, counts/counts_b, yerr = err_r, fmt = 'o', c = \"black\")\n",
    "axhline(1, linestyle = \"--\", c = \"r\", label = \"1\")\n",
    "ylim((-1, 5))\n",
    "xlim((0, 1000))\n",
    "legend()\n",
    "#savefig(\"mdm1ratio.svg\")"
   ]
  },
  {
   "cell_type": "code",
   "execution_count": 124,
   "metadata": {},
   "outputs": [
    {
     "name": "stderr",
     "output_type": "stream",
     "text": [
      "/usr/common/software/python/3.7-anaconda-2019.10/lib/python3.7/site-packages/ipykernel_launcher.py:1: RuntimeWarning: divide by zero encountered in true_divide\n",
      "  \"\"\"Entry point for launching an IPython kernel.\n",
      "/usr/common/software/python/3.7-anaconda-2019.10/lib/python3.7/site-packages/ipykernel_launcher.py:1: RuntimeWarning: invalid value encountered in true_divide\n",
      "  \"\"\"Entry point for launching an IPython kernel.\n",
      "/usr/common/software/python/3.7-anaconda-2019.10/lib/python3.7/site-packages/ipykernel_launcher.py:7: RuntimeWarning: invalid value encountered in double_scalars\n",
      "  import sys\n"
     ]
    }
   ],
   "source": [
    "pvals = np.array(get_pval(counts/counts_b, err_r))"
   ]
  },
  {
   "cell_type": "code",
   "execution_count": 125,
   "metadata": {},
   "outputs": [
    {
     "name": "stderr",
     "output_type": "stream",
     "text": [
      "/usr/common/software/python/3.7-anaconda-2019.10/lib/python3.7/site-packages/ipykernel_launcher.py:1: RuntimeWarning: divide by zero encountered in true_divide\n",
      "  \"\"\"Entry point for launching an IPython kernel.\n",
      "/usr/common/software/python/3.7-anaconda-2019.10/lib/python3.7/site-packages/ipykernel_launcher.py:1: RuntimeWarning: invalid value encountered in true_divide\n",
      "  \"\"\"Entry point for launching an IPython kernel.\n",
      "/usr/common/software/python/3.7-anaconda-2019.10/lib/python3.7/site-packages/ipykernel_launcher.py:1: RuntimeWarning: invalid value encountered in greater\n",
      "  \"\"\"Entry point for launching an IPython kernel.\n"
     ]
    }
   ],
   "source": [
    "ind_p = np.where((abs(counts/counts_b - 1)>err_r)*(counts != 0)*(counts_b != 0))"
   ]
  },
  {
   "cell_type": "code",
   "execution_count": 126,
   "metadata": {},
   "outputs": [
    {
     "name": "stderr",
     "output_type": "stream",
     "text": [
      "/usr/common/software/python/3.7-anaconda-2019.10/lib/python3.7/site-packages/ipykernel_launcher.py:1: RuntimeWarning: divide by zero encountered in true_divide\n",
      "  \"\"\"Entry point for launching an IPython kernel.\n",
      "/usr/common/software/python/3.7-anaconda-2019.10/lib/python3.7/site-packages/ipykernel_launcher.py:1: RuntimeWarning: invalid value encountered in true_divide\n",
      "  \"\"\"Entry point for launching an IPython kernel.\n"
     ]
    },
    {
     "data": {
      "text/plain": [
       "array([], dtype=float64)"
      ]
     },
     "execution_count": 126,
     "metadata": {},
     "output_type": "execute_result"
    }
   ],
   "source": [
    "(counts/counts_b)[ind_p]"
   ]
  },
  {
   "cell_type": "code",
   "execution_count": 127,
   "metadata": {},
   "outputs": [
    {
     "data": {
      "text/plain": [
       "(array([], dtype=int64),)"
      ]
     },
     "execution_count": 127,
     "metadata": {},
     "output_type": "execute_result"
    }
   ],
   "source": [
    "ind_p"
   ]
  },
  {
   "cell_type": "code",
   "execution_count": 128,
   "metadata": {},
   "outputs": [
    {
     "data": {
      "text/plain": [
       "array([], dtype=float64)"
      ]
     },
     "execution_count": 128,
     "metadata": {},
     "output_type": "execute_result"
    }
   ],
   "source": [
    "pvals[ind_p]"
   ]
  },
  {
   "cell_type": "markdown",
   "metadata": {},
   "source": [
    "## ML 400 GeV, MDM 300 GeV"
   ]
  },
  {
   "cell_type": "code",
   "execution_count": 133,
   "metadata": {},
   "outputs": [],
   "source": [
    "nbins   = 50 # number of bins in histogram\n",
    "xlow    = 0#e3\n",
    "xhigh   = 1000#e3\n",
    "bins    = np.linspace(xlow, xhigh, nbins)\n",
    "\n",
    "counts, bin_edges = np.histogram(mt2_dbg[2][0]/1e3, bins)\n",
    "bin_centers = (bin_edges[:-1] + bin_edges[1:])/2.\n",
    "err = np.sqrt(counts)\n",
    "counts = counts"
   ]
  },
  {
   "cell_type": "code",
   "execution_count": 134,
   "metadata": {},
   "outputs": [],
   "source": [
    "f3 = 1#(10e4)/sizes_databg[0]"
   ]
  },
  {
   "cell_type": "code",
   "execution_count": 135,
   "metadata": {},
   "outputs": [
    {
     "data": {
      "text/plain": [
       "(0, 1000)"
      ]
     },
     "execution_count": 135,
     "metadata": {},
     "output_type": "execute_result"
    },
    {
     "data": {
      "image/png": "[encoded data removed]",
      "text/plain": [
       "<Figure size 504x360 with 1 Axes>"
      ]
     },
     "metadata": {
      "needs_background": "light"
     },
     "output_type": "display_data"
    }
   ],
   "source": [
    "make_fig(\"MT2 (MeV)\", \"Number of Events\")\n",
    "title(\"(400 GeV, 300 GeV)\")\n",
    "#n, bins, patches = plt.hist(mt2_dbg[2][1:] + mt2_ebg[2] + [mt2_sets_ind[2]], \\\n",
    "                #bins, stacked = True, weights = bg_weights_ind[2] \\\n",
    "                #+ [f3*ewi for ewi in ebg_weights_ind[2]] + [f3*sets_weights_ind[2]])\n",
    "n, bins, patches = plt.hist(np.array(mt2_dbg[2][1:] + [mt2_sets_ind[2]])/1e3, \\\n",
    "                bins, stacked = True, weights = bg_weights_ind[2] + [f3*sets_weights_ind[2]])\n",
    "errorbar(bin_centers, counts, yerr = err, fmt = 'o', c = 'black')\n",
    "ylim(bottom = 0)\n",
    "axvline(np.sqrt(400**2-(mdms[2]/1e3)**2), linestyle = \"--\")\n",
    "legend([\"MT2 limit\", \"ZZ\", \"WZ\", \"diboson\", \"tt\", \"MC data\", \"real data\"])\n",
    "xlim(0, 1000)\n",
    "#savefig(\"mdm2plt.svg\")"
   ]
  },
  {
   "cell_type": "code",
   "execution_count": 136,
   "metadata": {},
   "outputs": [
    {
     "name": "stderr",
     "output_type": "stream",
     "text": [
      "/usr/common/software/python/3.7-anaconda-2019.10/lib/python3.7/site-packages/ipykernel_launcher.py:3: RuntimeWarning: divide by zero encountered in true_divide\n",
      "  This is separate from the ipykernel package so we can avoid doing imports until\n",
      "/usr/common/software/python/3.7-anaconda-2019.10/lib/python3.7/site-packages/ipykernel_launcher.py:3: RuntimeWarning: invalid value encountered in true_divide\n",
      "  This is separate from the ipykernel package so we can avoid doing imports until\n"
     ]
    }
   ],
   "source": [
    "counts_b, bin_edges_b = np.histogram(mt2_bg_comb[2]/1e3, bins, weights = bg_weights_comb[2])\n",
    "bin_centers_b = (bin_edges_b[:-1] + bin_edges_b[1:])/2.\n",
    "err_r = np.sqrt(counts)/counts_b"
   ]
  },
  {
   "cell_type": "code",
   "execution_count": 140,
   "metadata": {},
   "outputs": [
    {
     "name": "stderr",
     "output_type": "stream",
     "text": [
      "/usr/common/software/python/3.7-anaconda-2019.10/lib/python3.7/site-packages/ipykernel_launcher.py:3: RuntimeWarning: divide by zero encountered in true_divide\n",
      "  This is separate from the ipykernel package so we can avoid doing imports until\n",
      "/usr/common/software/python/3.7-anaconda-2019.10/lib/python3.7/site-packages/ipykernel_launcher.py:3: RuntimeWarning: invalid value encountered in true_divide\n",
      "  This is separate from the ipykernel package so we can avoid doing imports until\n"
     ]
    },
    {
     "data": {
      "text/plain": [
       "<matplotlib.legend.Legend at 0x2aabe4eb0810>"
      ]
     },
     "execution_count": 140,
     "metadata": {},
     "output_type": "execute_result"
    },
    {
     "data": {
      "image/png": "[encoded data removed]",
      "text/plain": [
       "<Figure size 504x360 with 1 Axes>"
      ]
     },
     "metadata": {
      "needs_background": "light"
     },
     "output_type": "display_data"
    }
   ],
   "source": [
    "make_fig(\"MT2 (MeV)\", \"Ratio\")\n",
    "title(\"(400 GeV, 300 GeV)\")\n",
    "errorbar(bin_centers, counts/counts_b, yerr = err_r, fmt = 'o', c = \"black\")\n",
    "axhline(1, linestyle = \"--\", c = \"r\", label = \"1\")\n",
    "ylim((-1, 20))\n",
    "xlim(0, 1000)\n",
    "#savefig(\"mdm2ratio_1.svg\")\n",
    "legend()"
   ]
  },
  {
   "cell_type": "code",
   "execution_count": 141,
   "metadata": {},
   "outputs": [
    {
     "name": "stderr",
     "output_type": "stream",
     "text": [
      "/usr/common/software/python/3.7-anaconda-2019.10/lib/python3.7/site-packages/ipykernel_launcher.py:1: RuntimeWarning: divide by zero encountered in true_divide\n",
      "  \"\"\"Entry point for launching an IPython kernel.\n",
      "/usr/common/software/python/3.7-anaconda-2019.10/lib/python3.7/site-packages/ipykernel_launcher.py:1: RuntimeWarning: invalid value encountered in true_divide\n",
      "  \"\"\"Entry point for launching an IPython kernel.\n",
      "/usr/common/software/python/3.7-anaconda-2019.10/lib/python3.7/site-packages/ipykernel_launcher.py:7: RuntimeWarning: invalid value encountered in double_scalars\n",
      "  import sys\n"
     ]
    }
   ],
   "source": [
    "pvals = get_pval(counts/counts_b, err_r)"
   ]
  },
  {
   "cell_type": "code",
   "execution_count": 142,
   "metadata": {},
   "outputs": [
    {
     "name": "stderr",
     "output_type": "stream",
     "text": [
      "/usr/common/software/python/3.7-anaconda-2019.10/lib/python3.7/site-packages/ipykernel_launcher.py:1: RuntimeWarning: divide by zero encountered in true_divide\n",
      "  \"\"\"Entry point for launching an IPython kernel.\n",
      "/usr/common/software/python/3.7-anaconda-2019.10/lib/python3.7/site-packages/ipykernel_launcher.py:1: RuntimeWarning: invalid value encountered in true_divide\n",
      "  \"\"\"Entry point for launching an IPython kernel.\n",
      "/usr/common/software/python/3.7-anaconda-2019.10/lib/python3.7/site-packages/ipykernel_launcher.py:1: RuntimeWarning: invalid value encountered in greater\n",
      "  \"\"\"Entry point for launching an IPython kernel.\n"
     ]
    }
   ],
   "source": [
    "ind_p = np.where((abs(counts/counts_b - 1)>err_r)*(counts != 0)*(counts_b != 0))"
   ]
  },
  {
   "cell_type": "code",
   "execution_count": 143,
   "metadata": {},
   "outputs": [
    {
     "name": "stderr",
     "output_type": "stream",
     "text": [
      "/usr/common/software/python/3.7-anaconda-2019.10/lib/python3.7/site-packages/ipykernel_launcher.py:1: RuntimeWarning: divide by zero encountered in true_divide\n",
      "  \"\"\"Entry point for launching an IPython kernel.\n",
      "/usr/common/software/python/3.7-anaconda-2019.10/lib/python3.7/site-packages/ipykernel_launcher.py:1: RuntimeWarning: invalid value encountered in true_divide\n",
      "  \"\"\"Entry point for launching an IPython kernel.\n"
     ]
    },
    {
     "data": {
      "text/plain": [
       "array([ 8.6811288 , 15.73537239])"
      ]
     },
     "execution_count": 143,
     "metadata": {},
     "output_type": "execute_result"
    }
   ],
   "source": [
    "(counts/counts_b)[ind_p]"
   ]
  },
  {
   "cell_type": "code",
   "execution_count": 144,
   "metadata": {},
   "outputs": [
    {
     "data": {
      "text/plain": [
       "array([0.06269564, 0.09269528])"
      ]
     },
     "execution_count": 144,
     "metadata": {},
     "output_type": "execute_result"
    }
   ],
   "source": [
    "array(pvals)[ind_p]"
   ]
  },
  {
   "cell_type": "code",
   "execution_count": null,
   "metadata": {},
   "outputs": [],
   "source": []
  }
 ],
 "metadata": {
  "kernelspec": {
   "display_name": "Python 3",
   "language": "python",
   "name": "python3"
  },
  "language_info": {
   "codemirror_mode": {
    "name": "ipython",
    "version": 3
   },
   "file_extension": ".py",
   "mimetype": "text/x-python",
   "name": "python",
   "nbconvert_exporter": "python",
   "pygments_lexer": "ipython3",
   "version": "3.7.4"
  }
 },
 "nbformat": 4,
 "nbformat_minor": 4
}
